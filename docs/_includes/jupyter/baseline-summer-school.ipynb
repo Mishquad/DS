{
 "cells": [
  {
   "cell_type": "code",
   "execution_count": 1,
   "id": "joined-crossing",
   "metadata": {
    "_cell_guid": "b1076dfc-b9ad-4769-8c92-a6c4dae69d19",
    "_uuid": "8f2839f25d086af736a60e9eeb907d3b93b6e0e5",
    "execution": {
     "iopub.execute_input": "2021-05-09T21:04:44.255313Z",
     "iopub.status.busy": "2021-05-09T21:04:44.254544Z",
     "iopub.status.idle": "2021-05-09T21:04:44.261014Z",
     "shell.execute_reply": "2021-05-09T21:04:44.261614Z"
    },
    "papermill": {
     "duration": 0.066821,
     "end_time": "2021-05-09T21:04:44.261987",
     "exception": false,
     "start_time": "2021-05-09T21:04:44.195166",
     "status": "completed"
    },
    "tags": []
   },
   "outputs": [
    {
     "name": "stdout",
     "output_type": "stream",
     "text": [
      "/kaggle/input/mts-ml-summer-school/items.csv\n",
      "/kaggle/input/mts-ml-summer-school/sample_submission.csv\n",
      "/kaggle/input/mts-ml-summer-school/users.csv\n",
      "/kaggle/input/mts-ml-summer-school/interactions.csv\n"
     ]
    }
   ],
   "source": [
    "# This Python 3 environment comes with many helpful analytics libraries installed\n",
    "# It is defined by the kaggle/python Docker image: https://github.com/kaggle/docker-python\n",
    "# For example, here's several helpful packages to load\n",
    "\n",
    "import numpy as np # linear algebra\n",
    "import pandas as pd # data processing, CSV file I/O (e.g. pd.read_csv)\n",
    "from itertools import cycle, islice\n",
    "\n",
    "# Input data files are available in the read-only \"../input/\" directory\n",
    "# For example, running this (by clicking run or pressing Shift+Enter) will list all files under the input directory\n",
    "\n",
    "import os\n",
    "for dirname, _, filenames in os.walk('/kaggle/input'):\n",
    "    for filename in filenames:\n",
    "        print(os.path.join(dirname, filename))\n",
    "\n",
    "# You can write up to 20GB to the current directory (/kaggle/working/) that gets preserved as output when you create a version using \"Save & Run All\" \n",
    "# You can also write temporary files to /kaggle/temp/, but they won't be saved outside of the current session"
   ]
  },
  {
   "cell_type": "markdown",
   "id": "graduate-matrix",
   "metadata": {
    "papermill": {
     "duration": 0.045785,
     "end_time": "2021-05-09T21:04:44.355098",
     "exception": false,
     "start_time": "2021-05-09T21:04:44.309313",
     "status": "completed"
    },
    "tags": []
   },
   "source": [
    "# 📝 Данные \n",
    "\n",
    "\n",
    "\n",
    "### `interactions` \n",
    "\n",
    "взаимодействия пользователей и книг\n",
    "\n",
    "- `user_id` - ID пользователя, int64\n",
    "- `item_id` - ID книги, int64\n",
    "- `progress` - прогресс по чтению в процентах, int8\n",
    "- `rating` - рейнтинг книги выставленный пользователем, от 1 до 5, много пропущенных значений\n",
    "- `start_date` - дата начала чтения книги пользователем"
   ]
  },
  {
   "cell_type": "code",
   "execution_count": 2,
   "id": "occupational-temperature",
   "metadata": {
    "execution": {
     "iopub.execute_input": "2021-05-09T21:04:44.451605Z",
     "iopub.status.busy": "2021-05-09T21:04:44.450958Z",
     "iopub.status.idle": "2021-05-09T21:04:45.843366Z",
     "shell.execute_reply": "2021-05-09T21:04:45.843935Z"
    },
    "papermill": {
     "duration": 1.442615,
     "end_time": "2021-05-09T21:04:45.844156",
     "exception": false,
     "start_time": "2021-05-09T21:04:44.401541",
     "status": "completed"
    },
    "tags": []
   },
   "outputs": [
    {
     "data": {
      "text/html": [
       "<div>\n",
       "<style scoped>\n",
       "    .dataframe tbody tr th:only-of-type {\n",
       "        vertical-align: middle;\n",
       "    }\n",
       "\n",
       "    .dataframe tbody tr th {\n",
       "        vertical-align: top;\n",
       "    }\n",
       "\n",
       "    .dataframe thead th {\n",
       "        text-align: right;\n",
       "    }\n",
       "</style>\n",
       "<table border=\"1\" class=\"dataframe\">\n",
       "  <thead>\n",
       "    <tr style=\"text-align: right;\">\n",
       "      <th></th>\n",
       "      <th>user_id</th>\n",
       "      <th>item_id</th>\n",
       "      <th>progress</th>\n",
       "      <th>rating</th>\n",
       "      <th>start_date</th>\n",
       "    </tr>\n",
       "  </thead>\n",
       "  <tbody>\n",
       "    <tr>\n",
       "      <th>0</th>\n",
       "      <td>90133</td>\n",
       "      <td>82910</td>\n",
       "      <td>100</td>\n",
       "      <td>NaN</td>\n",
       "      <td>2018-01-01</td>\n",
       "    </tr>\n",
       "    <tr>\n",
       "      <th>1</th>\n",
       "      <td>159130</td>\n",
       "      <td>331068</td>\n",
       "      <td>70</td>\n",
       "      <td>NaN</td>\n",
       "      <td>2018-01-01</td>\n",
       "    </tr>\n",
       "    <tr>\n",
       "      <th>2</th>\n",
       "      <td>80061</td>\n",
       "      <td>26540</td>\n",
       "      <td>69</td>\n",
       "      <td>4.0</td>\n",
       "      <td>2018-01-01</td>\n",
       "    </tr>\n",
       "    <tr>\n",
       "      <th>3</th>\n",
       "      <td>12811</td>\n",
       "      <td>301895</td>\n",
       "      <td>16</td>\n",
       "      <td>NaN</td>\n",
       "      <td>2018-01-01</td>\n",
       "    </tr>\n",
       "    <tr>\n",
       "      <th>4</th>\n",
       "      <td>5778</td>\n",
       "      <td>127872</td>\n",
       "      <td>100</td>\n",
       "      <td>NaN</td>\n",
       "      <td>2018-01-01</td>\n",
       "    </tr>\n",
       "    <tr>\n",
       "      <th>1562612</th>\n",
       "      <td>978</td>\n",
       "      <td>321492</td>\n",
       "      <td>50</td>\n",
       "      <td>NaN</td>\n",
       "      <td>2019-12-31</td>\n",
       "    </tr>\n",
       "    <tr>\n",
       "      <th>1562613</th>\n",
       "      <td>165713</td>\n",
       "      <td>325032</td>\n",
       "      <td>9</td>\n",
       "      <td>NaN</td>\n",
       "      <td>2019-12-31</td>\n",
       "    </tr>\n",
       "    <tr>\n",
       "      <th>1562614</th>\n",
       "      <td>43983</td>\n",
       "      <td>96797</td>\n",
       "      <td>100</td>\n",
       "      <td>5.0</td>\n",
       "      <td>2019-12-31</td>\n",
       "    </tr>\n",
       "    <tr>\n",
       "      <th>1562615</th>\n",
       "      <td>63445</td>\n",
       "      <td>157812</td>\n",
       "      <td>5</td>\n",
       "      <td>0.0</td>\n",
       "      <td>2019-12-31</td>\n",
       "    </tr>\n",
       "    <tr>\n",
       "      <th>1562616</th>\n",
       "      <td>104572</td>\n",
       "      <td>242176</td>\n",
       "      <td>1</td>\n",
       "      <td>0.0</td>\n",
       "      <td>2019-12-31</td>\n",
       "    </tr>\n",
       "  </tbody>\n",
       "</table>\n",
       "</div>"
      ],
      "text/plain": [
       "         user_id  item_id  progress  rating  start_date\n",
       "0          90133    82910       100     NaN  2018-01-01\n",
       "1         159130   331068        70     NaN  2018-01-01\n",
       "2          80061    26540        69     4.0  2018-01-01\n",
       "3          12811   301895        16     NaN  2018-01-01\n",
       "4           5778   127872       100     NaN  2018-01-01\n",
       "1562612      978   321492        50     NaN  2019-12-31\n",
       "1562613   165713   325032         9     NaN  2019-12-31\n",
       "1562614    43983    96797       100     5.0  2019-12-31\n",
       "1562615    63445   157812         5     0.0  2019-12-31\n",
       "1562616   104572   242176         1     0.0  2019-12-31"
      ]
     },
     "execution_count": 2,
     "metadata": {},
     "output_type": "execute_result"
    }
   ],
   "source": [
    "interactions = pd.read_csv('/kaggle/input/mts-ml-summer-school/interactions.csv')\n",
    "\n",
    "interactions.head().append(interactions.tail())"
   ]
  },
  {
   "cell_type": "code",
   "execution_count": 3,
   "id": "sought-liechtenstein",
   "metadata": {
    "execution": {
     "iopub.execute_input": "2021-05-09T21:04:45.948533Z",
     "iopub.status.busy": "2021-05-09T21:04:45.947597Z",
     "iopub.status.idle": "2021-05-09T21:04:46.133253Z",
     "shell.execute_reply": "2021-05-09T21:04:46.134142Z"
    },
    "papermill": {
     "duration": 0.241825,
     "end_time": "2021-05-09T21:04:46.134430",
     "exception": false,
     "start_time": "2021-05-09T21:04:45.892605",
     "status": "completed"
    },
    "tags": []
   },
   "outputs": [
    {
     "name": "stdout",
     "output_type": "stream",
     "text": [
      "<class 'pandas.core.frame.DataFrame'>\n",
      "RangeIndex: 1562617 entries, 0 to 1562616\n",
      "Data columns (total 5 columns):\n",
      " #   Column      Non-Null Count    Dtype  \n",
      "---  ------      --------------    -----  \n",
      " 0   user_id     1562617 non-null  int64  \n",
      " 1   item_id     1562617 non-null  int64  \n",
      " 2   progress    1562617 non-null  int64  \n",
      " 3   rating      323571 non-null   float64\n",
      " 4   start_date  1562617 non-null  object \n",
      "dtypes: float64(1), int64(3), object(1)\n",
      "memory usage: 59.6+ MB\n"
     ]
    }
   ],
   "source": [
    "interactions.info()"
   ]
  },
  {
   "cell_type": "code",
   "execution_count": 4,
   "id": "proprietary-conservation",
   "metadata": {
    "execution": {
     "iopub.execute_input": "2021-05-09T21:04:46.387368Z",
     "iopub.status.busy": "2021-05-09T21:04:46.386566Z",
     "iopub.status.idle": "2021-05-09T21:04:46.665033Z",
     "shell.execute_reply": "2021-05-09T21:04:46.664282Z"
    },
    "papermill": {
     "duration": 0.480287,
     "end_time": "2021-05-09T21:04:46.665211",
     "exception": false,
     "start_time": "2021-05-09T21:04:46.184924",
     "status": "completed"
    },
    "tags": []
   },
   "outputs": [
    {
     "name": "stdout",
     "output_type": "stream",
     "text": [
      "min interactions date: 2018-01-01\n",
      "max interactions date: 2019-12-31\n"
     ]
    }
   ],
   "source": [
    "print(f\"min interactions date: {interactions['start_date'].min()}\")\n",
    "print(f\"max interactions date: {interactions['start_date'].max()}\")"
   ]
  },
  {
   "cell_type": "markdown",
   "id": "signed-fleet",
   "metadata": {
    "papermill": {
     "duration": 0.04805,
     "end_time": "2021-05-09T21:04:46.764390",
     "exception": false,
     "start_time": "2021-05-09T21:04:46.716340",
     "status": "completed"
    },
    "tags": []
   },
   "source": [
    "### `items` \n",
    "\n",
    "информация о книгах\n",
    "\n",
    "- `item_id` - ID книги, int64\n",
    "- `title` - название книги, строка\n",
    "- `genres` - жанры, строка с разделителем ','\n",
    "- `authors` - авторы, строка с разделителем ','\n",
    "- `year` - год публикации, строка (найдите, почему 🤔)\n"
   ]
  },
  {
   "cell_type": "code",
   "execution_count": 5,
   "id": "chicken-education",
   "metadata": {
    "execution": {
     "iopub.execute_input": "2021-05-09T21:04:46.869840Z",
     "iopub.status.busy": "2021-05-09T21:04:46.869106Z",
     "iopub.status.idle": "2021-05-09T21:04:47.311780Z",
     "shell.execute_reply": "2021-05-09T21:04:47.312353Z"
    },
    "papermill": {
     "duration": 0.499547,
     "end_time": "2021-05-09T21:04:47.312558",
     "exception": false,
     "start_time": "2021-05-09T21:04:46.813011",
     "status": "completed"
    },
    "tags": []
   },
   "outputs": [
    {
     "data": {
      "text/html": [
       "<div>\n",
       "<style scoped>\n",
       "    .dataframe tbody tr th:only-of-type {\n",
       "        vertical-align: middle;\n",
       "    }\n",
       "\n",
       "    .dataframe tbody tr th {\n",
       "        vertical-align: top;\n",
       "    }\n",
       "\n",
       "    .dataframe thead th {\n",
       "        text-align: right;\n",
       "    }\n",
       "</style>\n",
       "<table border=\"1\" class=\"dataframe\">\n",
       "  <thead>\n",
       "    <tr style=\"text-align: right;\">\n",
       "      <th></th>\n",
       "      <th>id</th>\n",
       "      <th>title</th>\n",
       "      <th>genres</th>\n",
       "      <th>authors</th>\n",
       "      <th>year</th>\n",
       "    </tr>\n",
       "  </thead>\n",
       "  <tbody>\n",
       "    <tr>\n",
       "      <th>0</th>\n",
       "      <td>248031</td>\n",
       "      <td>Ворон-челобитчик</td>\n",
       "      <td>Зарубежные детские книги,Сказки,Зарубежная кла...</td>\n",
       "      <td>Михаил Салтыков-Щедрин</td>\n",
       "      <td>1886</td>\n",
       "    </tr>\n",
       "    <tr>\n",
       "      <th>1</th>\n",
       "      <td>256084</td>\n",
       "      <td>Скрипка Ротшильда</td>\n",
       "      <td>Классическая проза,Литература 19 века,Русская ...</td>\n",
       "      <td>Антон Чехов</td>\n",
       "      <td>1894</td>\n",
       "    </tr>\n",
       "    <tr>\n",
       "      <th>2</th>\n",
       "      <td>134166</td>\n",
       "      <td>Испорченные дети</td>\n",
       "      <td>Зарубежная классика,Классическая проза,Литерат...</td>\n",
       "      <td>Михаил Салтыков-Щедрин</td>\n",
       "      <td>1869</td>\n",
       "    </tr>\n",
       "    <tr>\n",
       "      <th>3</th>\n",
       "      <td>281311</td>\n",
       "      <td>Странный человек</td>\n",
       "      <td>Пьесы и драматургия,Литература 19 века</td>\n",
       "      <td>Михаил Лермонтов</td>\n",
       "      <td>1831</td>\n",
       "    </tr>\n",
       "    <tr>\n",
       "      <th>4</th>\n",
       "      <td>213473</td>\n",
       "      <td>Господа ташкентцы</td>\n",
       "      <td>Зарубежная классика,Классическая проза,Литерат...</td>\n",
       "      <td>Михаил Салтыков-Щедрин</td>\n",
       "      <td>1873</td>\n",
       "    </tr>\n",
       "    <tr>\n",
       "      <th>63753</th>\n",
       "      <td>143203</td>\n",
       "      <td>Игрушка палача</td>\n",
       "      <td>Эротические романы,Любовно-фантастические рома...</td>\n",
       "      <td>Эрика Адамс</td>\n",
       "      <td>2019</td>\n",
       "    </tr>\n",
       "    <tr>\n",
       "      <th>63754</th>\n",
       "      <td>27324</td>\n",
       "      <td>Любовь под развесистой клюквой</td>\n",
       "      <td>Современные любовные романы</td>\n",
       "      <td>Маргарита Южина</td>\n",
       "      <td>NaN</td>\n",
       "    </tr>\n",
       "    <tr>\n",
       "      <th>63755</th>\n",
       "      <td>359711</td>\n",
       "      <td>Куда уходят грешницы, или Гробница Наполеона</td>\n",
       "      <td>Современные детективы</td>\n",
       "      <td>Наталья Андреева</td>\n",
       "      <td>NaN</td>\n",
       "    </tr>\n",
       "    <tr>\n",
       "      <th>63756</th>\n",
       "      <td>283955</td>\n",
       "      <td>Сварить медведя</td>\n",
       "      <td>Зарубежные детективы,Исторические детективы,За...</td>\n",
       "      <td>Микаель Ниеми</td>\n",
       "      <td>2017</td>\n",
       "    </tr>\n",
       "    <tr>\n",
       "      <th>63757</th>\n",
       "      <td>256666</td>\n",
       "      <td>Подарок моей мечты</td>\n",
       "      <td>Любовное фэнтези</td>\n",
       "      <td>Елизавета Соболянская</td>\n",
       "      <td>2019</td>\n",
       "    </tr>\n",
       "  </tbody>\n",
       "</table>\n",
       "</div>"
      ],
      "text/plain": [
       "           id                                         title  \\\n",
       "0      248031                              Ворон-челобитчик   \n",
       "1      256084                             Скрипка Ротшильда   \n",
       "2      134166                              Испорченные дети   \n",
       "3      281311                              Странный человек   \n",
       "4      213473                             Господа ташкентцы   \n",
       "63753  143203                                Игрушка палача   \n",
       "63754   27324                Любовь под развесистой клюквой   \n",
       "63755  359711  Куда уходят грешницы, или Гробница Наполеона   \n",
       "63756  283955                               Сварить медведя   \n",
       "63757  256666                            Подарок моей мечты   \n",
       "\n",
       "                                                  genres  \\\n",
       "0      Зарубежные детские книги,Сказки,Зарубежная кла...   \n",
       "1      Классическая проза,Литература 19 века,Русская ...   \n",
       "2      Зарубежная классика,Классическая проза,Литерат...   \n",
       "3                 Пьесы и драматургия,Литература 19 века   \n",
       "4      Зарубежная классика,Классическая проза,Литерат...   \n",
       "63753  Эротические романы,Любовно-фантастические рома...   \n",
       "63754                        Современные любовные романы   \n",
       "63755                              Современные детективы   \n",
       "63756  Зарубежные детективы,Исторические детективы,За...   \n",
       "63757                                   Любовное фэнтези   \n",
       "\n",
       "                      authors  year  \n",
       "0      Михаил Салтыков-Щедрин  1886  \n",
       "1                 Антон Чехов  1894  \n",
       "2      Михаил Салтыков-Щедрин  1869  \n",
       "3            Михаил Лермонтов  1831  \n",
       "4      Михаил Салтыков-Щедрин  1873  \n",
       "63753             Эрика Адамс  2019  \n",
       "63754         Маргарита Южина   NaN  \n",
       "63755        Наталья Андреева   NaN  \n",
       "63756           Микаель Ниеми  2017  \n",
       "63757   Елизавета Соболянская  2019  "
      ]
     },
     "execution_count": 5,
     "metadata": {},
     "output_type": "execute_result"
    }
   ],
   "source": [
    "items = pd.read_csv('/kaggle/input/mts-ml-summer-school/items.csv')\n",
    "\n",
    "items.head().append(items.tail())"
   ]
  },
  {
   "cell_type": "code",
   "execution_count": 6,
   "id": "compact-milton",
   "metadata": {
    "execution": {
     "iopub.execute_input": "2021-05-09T21:04:47.414063Z",
     "iopub.status.busy": "2021-05-09T21:04:47.413083Z",
     "iopub.status.idle": "2021-05-09T21:04:47.452881Z",
     "shell.execute_reply": "2021-05-09T21:04:47.452212Z"
    },
    "papermill": {
     "duration": 0.091191,
     "end_time": "2021-05-09T21:04:47.453026",
     "exception": false,
     "start_time": "2021-05-09T21:04:47.361835",
     "status": "completed"
    },
    "tags": []
   },
   "outputs": [
    {
     "name": "stdout",
     "output_type": "stream",
     "text": [
      "<class 'pandas.core.frame.DataFrame'>\n",
      "RangeIndex: 63758 entries, 0 to 63757\n",
      "Data columns (total 5 columns):\n",
      " #   Column   Non-Null Count  Dtype \n",
      "---  ------   --------------  ----- \n",
      " 0   id       63758 non-null  int64 \n",
      " 1   title    63758 non-null  object\n",
      " 2   genres   63753 non-null  object\n",
      " 3   authors  56700 non-null  object\n",
      " 4   year     49508 non-null  object\n",
      "dtypes: int64(1), object(4)\n",
      "memory usage: 2.4+ MB\n"
     ]
    }
   ],
   "source": [
    "items.info()"
   ]
  },
  {
   "cell_type": "markdown",
   "id": "conceptual-dress",
   "metadata": {
    "papermill": {
     "duration": 0.048588,
     "end_time": "2021-05-09T21:04:47.550418",
     "exception": false,
     "start_time": "2021-05-09T21:04:47.501830",
     "status": "completed"
    },
    "tags": []
   },
   "source": [
    "### `users`\n",
    "\n",
    "информация о пользователях\n",
    "\n",
    "- `user_id` - ID пользователя, int64\n",
    "- `age` - возрастная группа пользователя, строка вида \"M_N\"\n",
    "- `sex` - пол пользователя, 1/0"
   ]
  },
  {
   "cell_type": "code",
   "execution_count": 7,
   "id": "committed-affiliate",
   "metadata": {
    "execution": {
     "iopub.execute_input": "2021-05-09T21:04:47.654959Z",
     "iopub.status.busy": "2021-05-09T21:04:47.654100Z",
     "iopub.status.idle": "2021-05-09T21:04:47.755973Z",
     "shell.execute_reply": "2021-05-09T21:04:47.755313Z"
    },
    "papermill": {
     "duration": 0.155777,
     "end_time": "2021-05-09T21:04:47.756119",
     "exception": false,
     "start_time": "2021-05-09T21:04:47.600342",
     "status": "completed"
    },
    "tags": []
   },
   "outputs": [
    {
     "data": {
      "text/html": [
       "<div>\n",
       "<style scoped>\n",
       "    .dataframe tbody tr th:only-of-type {\n",
       "        vertical-align: middle;\n",
       "    }\n",
       "\n",
       "    .dataframe tbody tr th {\n",
       "        vertical-align: top;\n",
       "    }\n",
       "\n",
       "    .dataframe thead th {\n",
       "        text-align: right;\n",
       "    }\n",
       "</style>\n",
       "<table border=\"1\" class=\"dataframe\">\n",
       "  <thead>\n",
       "    <tr style=\"text-align: right;\">\n",
       "      <th></th>\n",
       "      <th>user_id</th>\n",
       "      <th>age</th>\n",
       "      <th>sex</th>\n",
       "    </tr>\n",
       "  </thead>\n",
       "  <tbody>\n",
       "    <tr>\n",
       "      <th>0</th>\n",
       "      <td>0</td>\n",
       "      <td>45_54</td>\n",
       "      <td>1.0</td>\n",
       "    </tr>\n",
       "    <tr>\n",
       "      <th>1</th>\n",
       "      <td>1</td>\n",
       "      <td>25_34</td>\n",
       "      <td>0.0</td>\n",
       "    </tr>\n",
       "    <tr>\n",
       "      <th>2</th>\n",
       "      <td>2</td>\n",
       "      <td>45_54</td>\n",
       "      <td>0.0</td>\n",
       "    </tr>\n",
       "    <tr>\n",
       "      <th>3</th>\n",
       "      <td>3</td>\n",
       "      <td>65_inf</td>\n",
       "      <td>0.0</td>\n",
       "    </tr>\n",
       "    <tr>\n",
       "      <th>4</th>\n",
       "      <td>4</td>\n",
       "      <td>18_24</td>\n",
       "      <td>0.0</td>\n",
       "    </tr>\n",
       "    <tr>\n",
       "      <th>137249</th>\n",
       "      <td>166060</td>\n",
       "      <td>25_34</td>\n",
       "      <td>0.0</td>\n",
       "    </tr>\n",
       "    <tr>\n",
       "      <th>137250</th>\n",
       "      <td>166061</td>\n",
       "      <td>35_44</td>\n",
       "      <td>1.0</td>\n",
       "    </tr>\n",
       "    <tr>\n",
       "      <th>137251</th>\n",
       "      <td>166062</td>\n",
       "      <td>45_54</td>\n",
       "      <td>1.0</td>\n",
       "    </tr>\n",
       "    <tr>\n",
       "      <th>137252</th>\n",
       "      <td>166065</td>\n",
       "      <td>25_34</td>\n",
       "      <td>0.0</td>\n",
       "    </tr>\n",
       "    <tr>\n",
       "      <th>137253</th>\n",
       "      <td>166066</td>\n",
       "      <td>45_54</td>\n",
       "      <td>0.0</td>\n",
       "    </tr>\n",
       "  </tbody>\n",
       "</table>\n",
       "</div>"
      ],
      "text/plain": [
       "        user_id     age  sex\n",
       "0             0   45_54  1.0\n",
       "1             1   25_34  0.0\n",
       "2             2   45_54  0.0\n",
       "3             3  65_inf  0.0\n",
       "4             4   18_24  0.0\n",
       "137249   166060   25_34  0.0\n",
       "137250   166061   35_44  1.0\n",
       "137251   166062   45_54  1.0\n",
       "137252   166065   25_34  0.0\n",
       "137253   166066   45_54  0.0"
      ]
     },
     "execution_count": 7,
     "metadata": {},
     "output_type": "execute_result"
    }
   ],
   "source": [
    "users = pd.read_csv('/kaggle/input/mts-ml-summer-school/users.csv')\n",
    "\n",
    "users.head().append(users.tail())"
   ]
  },
  {
   "cell_type": "code",
   "execution_count": 8,
   "id": "destroyed-container",
   "metadata": {
    "execution": {
     "iopub.execute_input": "2021-05-09T21:04:47.878679Z",
     "iopub.status.busy": "2021-05-09T21:04:47.864297Z",
     "iopub.status.idle": "2021-05-09T21:04:47.890937Z",
     "shell.execute_reply": "2021-05-09T21:04:47.891410Z"
    },
    "papermill": {
     "duration": 0.084743,
     "end_time": "2021-05-09T21:04:47.891593",
     "exception": false,
     "start_time": "2021-05-09T21:04:47.806850",
     "status": "completed"
    },
    "tags": []
   },
   "outputs": [
    {
     "name": "stdout",
     "output_type": "stream",
     "text": [
      "<class 'pandas.core.frame.DataFrame'>\n",
      "RangeIndex: 137254 entries, 0 to 137253\n",
      "Data columns (total 3 columns):\n",
      " #   Column   Non-Null Count   Dtype  \n",
      "---  ------   --------------   -----  \n",
      " 0   user_id  137254 non-null  int64  \n",
      " 1   age      137244 non-null  object \n",
      " 2   sex      135640 non-null  float64\n",
      "dtypes: float64(1), int64(1), object(1)\n",
      "memory usage: 3.1+ MB\n"
     ]
    }
   ],
   "source": [
    "users.info()"
   ]
  },
  {
   "cell_type": "markdown",
   "id": "instant-castle",
   "metadata": {
    "papermill": {
     "duration": 0.050534,
     "end_time": "2021-05-09T21:04:47.991980",
     "exception": false,
     "start_time": "2021-05-09T21:04:47.941446",
     "status": "completed"
    },
    "tags": []
   },
   "source": [
    "# Пример сабмита\n",
    "\n",
    "из которого нужно взять id пользователей, для которых будем рекомендовать книги"
   ]
  },
  {
   "cell_type": "code",
   "execution_count": 9,
   "id": "equipped-walker",
   "metadata": {
    "execution": {
     "iopub.execute_input": "2021-05-09T21:04:48.101617Z",
     "iopub.status.busy": "2021-05-09T21:04:48.100794Z",
     "iopub.status.idle": "2021-05-09T21:04:48.119726Z",
     "shell.execute_reply": "2021-05-09T21:04:48.120220Z"
    },
    "papermill": {
     "duration": 0.075115,
     "end_time": "2021-05-09T21:04:48.120409",
     "exception": false,
     "start_time": "2021-05-09T21:04:48.045294",
     "status": "completed"
    },
    "tags": []
   },
   "outputs": [
    {
     "data": {
      "text/html": [
       "<div>\n",
       "<style scoped>\n",
       "    .dataframe tbody tr th:only-of-type {\n",
       "        vertical-align: middle;\n",
       "    }\n",
       "\n",
       "    .dataframe tbody tr th {\n",
       "        vertical-align: top;\n",
       "    }\n",
       "\n",
       "    .dataframe thead th {\n",
       "        text-align: right;\n",
       "    }\n",
       "</style>\n",
       "<table border=\"1\" class=\"dataframe\">\n",
       "  <thead>\n",
       "    <tr style=\"text-align: right;\">\n",
       "      <th></th>\n",
       "      <th>Id</th>\n",
       "      <th>Predicted</th>\n",
       "    </tr>\n",
       "  </thead>\n",
       "  <tbody>\n",
       "    <tr>\n",
       "      <th>0</th>\n",
       "      <td>10001</td>\n",
       "      <td>313 253 245 205 187 168 155 149 146 128 128 12...</td>\n",
       "    </tr>\n",
       "    <tr>\n",
       "      <th>1</th>\n",
       "      <td>10002</td>\n",
       "      <td>313 253 245 205 187 168 155 149 146 128 128 12...</td>\n",
       "    </tr>\n",
       "    <tr>\n",
       "      <th>2</th>\n",
       "      <td>100152</td>\n",
       "      <td>313 253 245 205 187 168 155 149 146 128 128 12...</td>\n",
       "    </tr>\n",
       "    <tr>\n",
       "      <th>3</th>\n",
       "      <td>100197</td>\n",
       "      <td>313 253 245 205 187 168 155 149 146 128 128 12...</td>\n",
       "    </tr>\n",
       "    <tr>\n",
       "      <th>4</th>\n",
       "      <td>100284</td>\n",
       "      <td>313 253 245 205 187 168 155 149 146 128 128 12...</td>\n",
       "    </tr>\n",
       "  </tbody>\n",
       "</table>\n",
       "</div>"
      ],
      "text/plain": [
       "       Id                                          Predicted\n",
       "0   10001  313 253 245 205 187 168 155 149 146 128 128 12...\n",
       "1   10002  313 253 245 205 187 168 155 149 146 128 128 12...\n",
       "2  100152  313 253 245 205 187 168 155 149 146 128 128 12...\n",
       "3  100197  313 253 245 205 187 168 155 149 146 128 128 12...\n",
       "4  100284  313 253 245 205 187 168 155 149 146 128 128 12..."
      ]
     },
     "execution_count": 9,
     "metadata": {},
     "output_type": "execute_result"
    }
   ],
   "source": [
    "submission = pd.read_csv('/kaggle/input/mts-ml-summer-school/sample_submission.csv')\n",
    "submission.head()"
   ]
  },
  {
   "cell_type": "code",
   "execution_count": 10,
   "id": "working-blend",
   "metadata": {
    "execution": {
     "iopub.execute_input": "2021-05-09T21:04:48.225861Z",
     "iopub.status.busy": "2021-05-09T21:04:48.224906Z",
     "iopub.status.idle": "2021-05-09T21:04:48.235394Z",
     "shell.execute_reply": "2021-05-09T21:04:48.235872Z"
    },
    "papermill": {
     "duration": 0.064606,
     "end_time": "2021-05-09T21:04:48.236056",
     "exception": false,
     "start_time": "2021-05-09T21:04:48.171450",
     "status": "completed"
    },
    "tags": []
   },
   "outputs": [
    {
     "name": "stdout",
     "output_type": "stream",
     "text": [
      "(3074, 2)\n",
      "3074\n"
     ]
    }
   ],
   "source": [
    "print(submission.shape)\n",
    "print(submission['Id'].nunique())"
   ]
  },
  {
   "cell_type": "markdown",
   "id": "acting-williams",
   "metadata": {
    "papermill": {
     "duration": 0.050795,
     "end_time": "2021-05-09T21:04:48.338046",
     "exception": false,
     "start_time": "2021-05-09T21:04:48.287251",
     "status": "completed"
    },
    "tags": []
   },
   "source": [
    "# Бейзлайн № 1 - порекомендуем всем популярные книги"
   ]
  },
  {
   "cell_type": "markdown",
   "id": "tested-sitting",
   "metadata": {
    "papermill": {
     "duration": 0.050935,
     "end_time": "2021-05-09T21:04:48.440240",
     "exception": false,
     "start_time": "2021-05-09T21:04:48.389305",
     "status": "completed"
    },
    "tags": []
   },
   "source": [
    "### Класс, который \n",
    "- принимает на вход взаимодейтствия \n",
    "- выдает список популярных айтемов \n",
    "- за указанное количество последних дней (days)\n",
    "\n",
    "Источник https://www.kaggle.com/sharthz23/metrics-validation-strategies-and-baselines"
   ]
  },
  {
   "cell_type": "code",
   "execution_count": 11,
   "id": "medium-hotel",
   "metadata": {
    "execution": {
     "iopub.execute_input": "2021-05-09T21:04:48.554374Z",
     "iopub.status.busy": "2021-05-09T21:04:48.553589Z",
     "iopub.status.idle": "2021-05-09T21:04:48.557667Z",
     "shell.execute_reply": "2021-05-09T21:04:48.557020Z"
    },
    "papermill": {
     "duration": 0.066462,
     "end_time": "2021-05-09T21:04:48.557851",
     "exception": false,
     "start_time": "2021-05-09T21:04:48.491389",
     "status": "completed"
    },
    "tags": []
   },
   "outputs": [],
   "source": [
    "class PopularRecommender():\n",
    "    def __init__(self, max_K=100, days=30, item_column='item_id', dt_column='date'):\n",
    "        self.max_K = max_K\n",
    "        self.days = days\n",
    "        self.item_column = item_column\n",
    "        self.dt_column = dt_column\n",
    "        self.recommendations = []\n",
    "        \n",
    "    def fit(self, df):\n",
    "        min_date = df[self.dt_column].max().normalize() - pd.DateOffset(days=self.days)\n",
    "        self.recommendations = df.loc[df[self.dt_column] > min_date, self.item_column].value_counts().head(self.max_K).index.values\n",
    "    \n",
    "    def recommend(self, users=None, N=10):\n",
    "        recs = self.recommendations[:N]\n",
    "        if users is None:\n",
    "            return recs\n",
    "        else:\n",
    "            return list(islice(cycle([recs]), len(users)))"
   ]
  },
  {
   "cell_type": "code",
   "execution_count": 12,
   "id": "provincial-fleece",
   "metadata": {
    "execution": {
     "iopub.execute_input": "2021-05-09T21:04:48.761747Z",
     "iopub.status.busy": "2021-05-09T21:04:48.761109Z",
     "iopub.status.idle": "2021-05-09T21:04:49.001396Z",
     "shell.execute_reply": "2021-05-09T21:04:49.000117Z"
    },
    "papermill": {
     "duration": 0.392053,
     "end_time": "2021-05-09T21:04:49.001592",
     "exception": false,
     "start_time": "2021-05-09T21:04:48.609539",
     "status": "completed"
    },
    "tags": []
   },
   "outputs": [],
   "source": [
    "# преобразуем даты в datetime формат\n",
    "interactions['start_date'] = pd.to_datetime(interactions['start_date'])"
   ]
  },
  {
   "cell_type": "code",
   "execution_count": 13,
   "id": "missing-monaco",
   "metadata": {
    "execution": {
     "iopub.execute_input": "2021-05-09T21:04:49.115627Z",
     "iopub.status.busy": "2021-05-09T21:04:49.114562Z",
     "iopub.status.idle": "2021-05-09T21:04:49.148591Z",
     "shell.execute_reply": "2021-05-09T21:04:49.147952Z"
    },
    "papermill": {
     "duration": 0.093974,
     "end_time": "2021-05-09T21:04:49.148773",
     "exception": false,
     "start_time": "2021-05-09T21:04:49.054799",
     "status": "completed"
    },
    "tags": []
   },
   "outputs": [],
   "source": [
    "# обучим модель\n",
    "pop = PopularRecommender(days=28, dt_column='start_date')\n",
    "pop.fit(interactions)"
   ]
  },
  {
   "cell_type": "code",
   "execution_count": 14,
   "id": "exotic-married",
   "metadata": {
    "execution": {
     "iopub.execute_input": "2021-05-09T21:04:49.274866Z",
     "iopub.status.busy": "2021-05-09T21:04:49.263879Z",
     "iopub.status.idle": "2021-05-09T21:04:49.281024Z",
     "shell.execute_reply": "2021-05-09T21:04:49.280323Z"
    },
    "papermill": {
     "duration": 0.077738,
     "end_time": "2021-05-09T21:04:49.281178",
     "exception": false,
     "start_time": "2021-05-09T21:04:49.203440",
     "status": "completed"
    },
    "tags": []
   },
   "outputs": [
    {
     "data": {
      "text/html": [
       "<div>\n",
       "<style scoped>\n",
       "    .dataframe tbody tr th:only-of-type {\n",
       "        vertical-align: middle;\n",
       "    }\n",
       "\n",
       "    .dataframe tbody tr th {\n",
       "        vertical-align: top;\n",
       "    }\n",
       "\n",
       "    .dataframe thead th {\n",
       "        text-align: right;\n",
       "    }\n",
       "</style>\n",
       "<table border=\"1\" class=\"dataframe\">\n",
       "  <thead>\n",
       "    <tr style=\"text-align: right;\">\n",
       "      <th></th>\n",
       "      <th>user_id</th>\n",
       "      <th>item_id</th>\n",
       "    </tr>\n",
       "  </thead>\n",
       "  <tbody>\n",
       "    <tr>\n",
       "      <th>0</th>\n",
       "      <td>10001</td>\n",
       "      <td>[283713, 184549, 276903, 168963, 357309, 14317...</td>\n",
       "    </tr>\n",
       "    <tr>\n",
       "      <th>1</th>\n",
       "      <td>10002</td>\n",
       "      <td>[283713, 184549, 276903, 168963, 357309, 14317...</td>\n",
       "    </tr>\n",
       "    <tr>\n",
       "      <th>2</th>\n",
       "      <td>100152</td>\n",
       "      <td>[283713, 184549, 276903, 168963, 357309, 14317...</td>\n",
       "    </tr>\n",
       "    <tr>\n",
       "      <th>3</th>\n",
       "      <td>100197</td>\n",
       "      <td>[283713, 184549, 276903, 168963, 357309, 14317...</td>\n",
       "    </tr>\n",
       "    <tr>\n",
       "      <th>4</th>\n",
       "      <td>100284</td>\n",
       "      <td>[283713, 184549, 276903, 168963, 357309, 14317...</td>\n",
       "    </tr>\n",
       "  </tbody>\n",
       "</table>\n",
       "</div>"
      ],
      "text/plain": [
       "   user_id                                            item_id\n",
       "0    10001  [283713, 184549, 276903, 168963, 357309, 14317...\n",
       "1    10002  [283713, 184549, 276903, 168963, 357309, 14317...\n",
       "2   100152  [283713, 184549, 276903, 168963, 357309, 14317...\n",
       "3   100197  [283713, 184549, 276903, 168963, 357309, 14317...\n",
       "4   100284  [283713, 184549, 276903, 168963, 357309, 14317..."
      ]
     },
     "execution_count": 14,
     "metadata": {},
     "output_type": "execute_result"
    }
   ],
   "source": [
    "# создадим датафрейм с user id из submission\n",
    "pred_pop = pd.DataFrame({'user_id': submission['Id'].unique()})\n",
    "\n",
    "# сделаем предикт моделью популярного сразу для всех id\n",
    "pred_pop['item_id'] = pop.recommend(pred_pop['user_id'], N=10)\n",
    "pred_pop.head()"
   ]
  },
  {
   "cell_type": "code",
   "execution_count": 15,
   "id": "usual-demand",
   "metadata": {
    "execution": {
     "iopub.execute_input": "2021-05-09T21:04:49.407945Z",
     "iopub.status.busy": "2021-05-09T21:04:49.406031Z",
     "iopub.status.idle": "2021-05-09T21:04:49.426390Z",
     "shell.execute_reply": "2021-05-09T21:04:49.425761Z"
    },
    "papermill": {
     "duration": 0.092916,
     "end_time": "2021-05-09T21:04:49.426532",
     "exception": false,
     "start_time": "2021-05-09T21:04:49.333616",
     "status": "completed"
    },
    "tags": []
   },
   "outputs": [
    {
     "data": {
      "text/html": [
       "<div>\n",
       "<style scoped>\n",
       "    .dataframe tbody tr th:only-of-type {\n",
       "        vertical-align: middle;\n",
       "    }\n",
       "\n",
       "    .dataframe tbody tr th {\n",
       "        vertical-align: top;\n",
       "    }\n",
       "\n",
       "    .dataframe thead th {\n",
       "        text-align: right;\n",
       "    }\n",
       "</style>\n",
       "<table border=\"1\" class=\"dataframe\">\n",
       "  <thead>\n",
       "    <tr style=\"text-align: right;\">\n",
       "      <th></th>\n",
       "      <th>user_id</th>\n",
       "      <th>item_id</th>\n",
       "    </tr>\n",
       "  </thead>\n",
       "  <tbody>\n",
       "    <tr>\n",
       "      <th>0</th>\n",
       "      <td>10001</td>\n",
       "      <td>283713</td>\n",
       "    </tr>\n",
       "    <tr>\n",
       "      <th>0</th>\n",
       "      <td>10001</td>\n",
       "      <td>184549</td>\n",
       "    </tr>\n",
       "    <tr>\n",
       "      <th>0</th>\n",
       "      <td>10001</td>\n",
       "      <td>276903</td>\n",
       "    </tr>\n",
       "    <tr>\n",
       "      <th>0</th>\n",
       "      <td>10001</td>\n",
       "      <td>168963</td>\n",
       "    </tr>\n",
       "    <tr>\n",
       "      <th>0</th>\n",
       "      <td>10001</td>\n",
       "      <td>357309</td>\n",
       "    </tr>\n",
       "  </tbody>\n",
       "</table>\n",
       "</div>"
      ],
      "text/plain": [
       "   user_id item_id\n",
       "0    10001  283713\n",
       "0    10001  184549\n",
       "0    10001  276903\n",
       "0    10001  168963\n",
       "0    10001  357309"
      ]
     },
     "execution_count": 15,
     "metadata": {},
     "output_type": "execute_result"
    }
   ],
   "source": [
    "# развернем рекомендации в удобный вертикальный формат и проставим ранк\n",
    "# ранк = релевантность рекомендации для пользователя\n",
    "pred_pop = pred_pop.explode('item_id')\n",
    "pred_pop.head()"
   ]
  },
  {
   "cell_type": "code",
   "execution_count": 16,
   "id": "controversial-peninsula",
   "metadata": {
    "execution": {
     "iopub.execute_input": "2021-05-09T21:04:49.540057Z",
     "iopub.status.busy": "2021-05-09T21:04:49.538935Z",
     "iopub.status.idle": "2021-05-09T21:04:49.575323Z",
     "shell.execute_reply": "2021-05-09T21:04:49.574753Z"
    },
    "papermill": {
     "duration": 0.095608,
     "end_time": "2021-05-09T21:04:49.575473",
     "exception": false,
     "start_time": "2021-05-09T21:04:49.479865",
     "status": "completed"
    },
    "tags": []
   },
   "outputs": [
    {
     "data": {
      "text/html": [
       "<div>\n",
       "<style scoped>\n",
       "    .dataframe tbody tr th:only-of-type {\n",
       "        vertical-align: middle;\n",
       "    }\n",
       "\n",
       "    .dataframe tbody tr th {\n",
       "        vertical-align: top;\n",
       "    }\n",
       "\n",
       "    .dataframe thead th {\n",
       "        text-align: right;\n",
       "    }\n",
       "</style>\n",
       "<table border=\"1\" class=\"dataframe\">\n",
       "  <thead>\n",
       "    <tr style=\"text-align: right;\">\n",
       "      <th></th>\n",
       "      <th>user_id</th>\n",
       "      <th>item_id</th>\n",
       "      <th>rank</th>\n",
       "    </tr>\n",
       "  </thead>\n",
       "  <tbody>\n",
       "    <tr>\n",
       "      <th>0</th>\n",
       "      <td>10001</td>\n",
       "      <td>283713</td>\n",
       "      <td>1</td>\n",
       "    </tr>\n",
       "    <tr>\n",
       "      <th>0</th>\n",
       "      <td>10001</td>\n",
       "      <td>184549</td>\n",
       "      <td>2</td>\n",
       "    </tr>\n",
       "    <tr>\n",
       "      <th>0</th>\n",
       "      <td>10001</td>\n",
       "      <td>276903</td>\n",
       "      <td>3</td>\n",
       "    </tr>\n",
       "    <tr>\n",
       "      <th>0</th>\n",
       "      <td>10001</td>\n",
       "      <td>168963</td>\n",
       "      <td>4</td>\n",
       "    </tr>\n",
       "    <tr>\n",
       "      <th>0</th>\n",
       "      <td>10001</td>\n",
       "      <td>357309</td>\n",
       "      <td>5</td>\n",
       "    </tr>\n",
       "  </tbody>\n",
       "</table>\n",
       "</div>"
      ],
      "text/plain": [
       "   user_id item_id  rank\n",
       "0    10001  283713     1\n",
       "0    10001  184549     2\n",
       "0    10001  276903     3\n",
       "0    10001  168963     4\n",
       "0    10001  357309     5"
      ]
     },
     "execution_count": 16,
     "metadata": {},
     "output_type": "execute_result"
    }
   ],
   "source": [
    "pred_pop['rank'] = pred_pop.groupby('user_id').cumcount() + 1\n",
    "pred_pop.head()"
   ]
  },
  {
   "cell_type": "markdown",
   "id": "temporal-brunswick",
   "metadata": {
    "papermill": {
     "duration": 0.053272,
     "end_time": "2021-05-09T21:04:49.682109",
     "exception": false,
     "start_time": "2021-05-09T21:04:49.628837",
     "status": "completed"
    },
    "tags": []
   },
   "source": [
    "### Функция для конвертации датафрейма с рекомендациями в нужный формат для сабмита"
   ]
  },
  {
   "cell_type": "code",
   "execution_count": 17,
   "id": "generous-poverty",
   "metadata": {
    "execution": {
     "iopub.execute_input": "2021-05-09T21:04:49.799428Z",
     "iopub.status.busy": "2021-05-09T21:04:49.798329Z",
     "iopub.status.idle": "2021-05-09T21:04:49.800745Z",
     "shell.execute_reply": "2021-05-09T21:04:49.801306Z"
    },
    "papermill": {
     "duration": 0.064535,
     "end_time": "2021-05-09T21:04:49.801475",
     "exception": false,
     "start_time": "2021-05-09T21:04:49.736940",
     "status": "completed"
    },
    "tags": []
   },
   "outputs": [],
   "source": [
    "def make_submission(df, id_col='user_id', predicted_col='item_id'):\n",
    "    \n",
    "    df_copy = df.copy()\n",
    "    df_copy.loc[:, id_col] = df_copy[id_col].astype(str)\n",
    "    df_copy.loc[:, predicted_col] = df_copy[predicted_col].astype(str)\n",
    "    df_copy = df_copy.groupby(id_col, as_index=False).agg({predicted_col: lambda x: ' '.join(list(x))})\n",
    "    df_copy.rename(columns={id_col: 'Id', predicted_col: 'Predicted'}, inplace=True)\n",
    "    \n",
    "    return df_copy[['Id', 'Predicted']]"
   ]
  },
  {
   "cell_type": "markdown",
   "id": "corporate-subject",
   "metadata": {
    "papermill": {
     "duration": 0.053976,
     "end_time": "2021-05-09T21:04:49.910372",
     "exception": false,
     "start_time": "2021-05-09T21:04:49.856396",
     "status": "completed"
    },
    "tags": []
   },
   "source": [
    " Этот сабмит отражен на лидерборде как `popular_baseline`"
   ]
  },
  {
   "cell_type": "code",
   "execution_count": 18,
   "id": "invisible-wagner",
   "metadata": {
    "execution": {
     "iopub.execute_input": "2021-05-09T21:04:50.027882Z",
     "iopub.status.busy": "2021-05-09T21:04:50.027148Z",
     "iopub.status.idle": "2021-05-09T21:04:50.197760Z",
     "shell.execute_reply": "2021-05-09T21:04:50.197072Z"
    },
    "papermill": {
     "duration": 0.231292,
     "end_time": "2021-05-09T21:04:50.197931",
     "exception": false,
     "start_time": "2021-05-09T21:04:49.966639",
     "status": "completed"
    },
    "tags": []
   },
   "outputs": [
    {
     "data": {
      "text/html": [
       "<div>\n",
       "<style scoped>\n",
       "    .dataframe tbody tr th:only-of-type {\n",
       "        vertical-align: middle;\n",
       "    }\n",
       "\n",
       "    .dataframe tbody tr th {\n",
       "        vertical-align: top;\n",
       "    }\n",
       "\n",
       "    .dataframe thead th {\n",
       "        text-align: right;\n",
       "    }\n",
       "</style>\n",
       "<table border=\"1\" class=\"dataframe\">\n",
       "  <thead>\n",
       "    <tr style=\"text-align: right;\">\n",
       "      <th></th>\n",
       "      <th>Id</th>\n",
       "      <th>Predicted</th>\n",
       "    </tr>\n",
       "  </thead>\n",
       "  <tbody>\n",
       "    <tr>\n",
       "      <th>0</th>\n",
       "      <td>10001</td>\n",
       "      <td>283713 184549 276903 168963 357309 143175 3852...</td>\n",
       "    </tr>\n",
       "    <tr>\n",
       "      <th>1</th>\n",
       "      <td>10002</td>\n",
       "      <td>283713 184549 276903 168963 357309 143175 3852...</td>\n",
       "    </tr>\n",
       "    <tr>\n",
       "      <th>2</th>\n",
       "      <td>100152</td>\n",
       "      <td>283713 184549 276903 168963 357309 143175 3852...</td>\n",
       "    </tr>\n",
       "    <tr>\n",
       "      <th>3</th>\n",
       "      <td>100197</td>\n",
       "      <td>283713 184549 276903 168963 357309 143175 3852...</td>\n",
       "    </tr>\n",
       "    <tr>\n",
       "      <th>4</th>\n",
       "      <td>100284</td>\n",
       "      <td>283713 184549 276903 168963 357309 143175 3852...</td>\n",
       "    </tr>\n",
       "  </tbody>\n",
       "</table>\n",
       "</div>"
      ],
      "text/plain": [
       "       Id                                          Predicted\n",
       "0   10001  283713 184549 276903 168963 357309 143175 3852...\n",
       "1   10002  283713 184549 276903 168963 357309 143175 3852...\n",
       "2  100152  283713 184549 276903 168963 357309 143175 3852...\n",
       "3  100197  283713 184549 276903 168963 357309 143175 3852...\n",
       "4  100284  283713 184549 276903 168963 357309 143175 3852..."
      ]
     },
     "execution_count": 18,
     "metadata": {},
     "output_type": "execute_result"
    }
   ],
   "source": [
    "submission_pop_90 = make_submission(pred_pop)\n",
    "submission_pop_90.head()"
   ]
  },
  {
   "cell_type": "code",
   "execution_count": 19,
   "id": "designed-billy",
   "metadata": {
    "execution": {
     "iopub.execute_input": "2021-05-09T21:04:50.314304Z",
     "iopub.status.busy": "2021-05-09T21:04:50.313528Z",
     "iopub.status.idle": "2021-05-09T21:04:50.317810Z",
     "shell.execute_reply": "2021-05-09T21:04:50.317156Z"
    },
    "papermill": {
     "duration": 0.06523,
     "end_time": "2021-05-09T21:04:50.317956",
     "exception": false,
     "start_time": "2021-05-09T21:04:50.252726",
     "status": "completed"
    },
    "tags": []
   },
   "outputs": [
    {
     "data": {
      "text/plain": [
       "'283713 184549 276903 168963 357309 143175 385281 55466 80003 352049'"
      ]
     },
     "execution_count": 19,
     "metadata": {},
     "output_type": "execute_result"
    }
   ],
   "source": [
    "submission_pop_90['Predicted'][0]"
   ]
  },
  {
   "cell_type": "code",
   "execution_count": 20,
   "id": "ready-exploration",
   "metadata": {
    "execution": {
     "iopub.execute_input": "2021-05-09T21:04:50.433394Z",
     "iopub.status.busy": "2021-05-09T21:04:50.432436Z",
     "iopub.status.idle": "2021-05-09T21:04:50.456162Z",
     "shell.execute_reply": "2021-05-09T21:04:50.455365Z"
    },
    "papermill": {
     "duration": 0.083821,
     "end_time": "2021-05-09T21:04:50.456325",
     "exception": false,
     "start_time": "2021-05-09T21:04:50.372504",
     "status": "completed"
    },
    "tags": []
   },
   "outputs": [],
   "source": [
    "submission_pop_90.to_csv('submission_pop_90.csv', index=False)"
   ]
  },
  {
   "cell_type": "markdown",
   "id": "filled-emission",
   "metadata": {
    "papermill": {
     "duration": 0.053973,
     "end_time": "2021-05-09T21:04:50.565199",
     "exception": false,
     "start_time": "2021-05-09T21:04:50.511226",
     "status": "completed"
    },
    "tags": []
   },
   "source": [
    "# 🤓 Пространство для экспериментов:\n",
    "    \n",
    "- попробовать разное кол-во дней для сбора популярных книг\n",
    "- отфильтровать популярное по признакам пользователей. Например: популярное по возрасту или полу\n",
    "- поэкспериментировать с фильтром по рейтингу    "
   ]
  },
  {
   "cell_type": "code",
   "execution_count": 21,
   "id": "verbal-extreme",
   "metadata": {
    "execution": {
     "iopub.execute_input": "2021-05-09T21:04:50.680478Z",
     "iopub.status.busy": "2021-05-09T21:04:50.679763Z",
     "iopub.status.idle": "2021-05-09T21:04:50.688949Z",
     "shell.execute_reply": "2021-05-09T21:04:50.688080Z"
    },
    "papermill": {
     "duration": 0.069291,
     "end_time": "2021-05-09T21:04:50.689139",
     "exception": false,
     "start_time": "2021-05-09T21:04:50.619848",
     "status": "completed"
    },
    "tags": []
   },
   "outputs": [],
   "source": [
    "items_test = items\n",
    "items_test = items_test.rename(columns = {'id' : 'item_id'})"
   ]
  },
  {
   "cell_type": "code",
   "execution_count": 22,
   "id": "political-boston",
   "metadata": {
    "execution": {
     "iopub.execute_input": "2021-05-09T21:04:50.810117Z",
     "iopub.status.busy": "2021-05-09T21:04:50.808938Z",
     "iopub.status.idle": "2021-05-09T21:04:51.306210Z",
     "shell.execute_reply": "2021-05-09T21:04:51.305406Z"
    },
    "papermill": {
     "duration": 0.559688,
     "end_time": "2021-05-09T21:04:51.306382",
     "exception": false,
     "start_time": "2021-05-09T21:04:50.746694",
     "status": "completed"
    },
    "tags": []
   },
   "outputs": [
    {
     "data": {
      "text/html": [
       "<div>\n",
       "<style scoped>\n",
       "    .dataframe tbody tr th:only-of-type {\n",
       "        vertical-align: middle;\n",
       "    }\n",
       "\n",
       "    .dataframe tbody tr th {\n",
       "        vertical-align: top;\n",
       "    }\n",
       "\n",
       "    .dataframe thead th {\n",
       "        text-align: right;\n",
       "    }\n",
       "</style>\n",
       "<table border=\"1\" class=\"dataframe\">\n",
       "  <thead>\n",
       "    <tr style=\"text-align: right;\">\n",
       "      <th></th>\n",
       "      <th>user_id</th>\n",
       "      <th>item_id</th>\n",
       "      <th>progress</th>\n",
       "      <th>rating</th>\n",
       "      <th>start_date</th>\n",
       "      <th>title</th>\n",
       "      <th>genres</th>\n",
       "      <th>authors</th>\n",
       "      <th>year</th>\n",
       "    </tr>\n",
       "  </thead>\n",
       "  <tbody>\n",
       "    <tr>\n",
       "      <th>0</th>\n",
       "      <td>90133</td>\n",
       "      <td>82910</td>\n",
       "      <td>100</td>\n",
       "      <td>NaN</td>\n",
       "      <td>2018-01-01</td>\n",
       "      <td>Ведьма отмщения</td>\n",
       "      <td>Современные детективы</td>\n",
       "      <td>Галина Романова</td>\n",
       "      <td>2013</td>\n",
       "    </tr>\n",
       "    <tr>\n",
       "      <th>1</th>\n",
       "      <td>60692</td>\n",
       "      <td>82910</td>\n",
       "      <td>100</td>\n",
       "      <td>NaN</td>\n",
       "      <td>2018-04-11</td>\n",
       "      <td>Ведьма отмщения</td>\n",
       "      <td>Современные детективы</td>\n",
       "      <td>Галина Романова</td>\n",
       "      <td>2013</td>\n",
       "    </tr>\n",
       "    <tr>\n",
       "      <th>2</th>\n",
       "      <td>138619</td>\n",
       "      <td>82910</td>\n",
       "      <td>67</td>\n",
       "      <td>NaN</td>\n",
       "      <td>2018-05-24</td>\n",
       "      <td>Ведьма отмщения</td>\n",
       "      <td>Современные детективы</td>\n",
       "      <td>Галина Романова</td>\n",
       "      <td>2013</td>\n",
       "    </tr>\n",
       "    <tr>\n",
       "      <th>3</th>\n",
       "      <td>76503</td>\n",
       "      <td>82910</td>\n",
       "      <td>74</td>\n",
       "      <td>NaN</td>\n",
       "      <td>2018-12-21</td>\n",
       "      <td>Ведьма отмщения</td>\n",
       "      <td>Современные детективы</td>\n",
       "      <td>Галина Романова</td>\n",
       "      <td>2013</td>\n",
       "    </tr>\n",
       "    <tr>\n",
       "      <th>4</th>\n",
       "      <td>85408</td>\n",
       "      <td>82910</td>\n",
       "      <td>99</td>\n",
       "      <td>NaN</td>\n",
       "      <td>2019-03-06</td>\n",
       "      <td>Ведьма отмщения</td>\n",
       "      <td>Современные детективы</td>\n",
       "      <td>Галина Романова</td>\n",
       "      <td>2013</td>\n",
       "    </tr>\n",
       "  </tbody>\n",
       "</table>\n",
       "</div>"
      ],
      "text/plain": [
       "   user_id  item_id  progress  rating start_date            title  \\\n",
       "0    90133    82910       100     NaN 2018-01-01  Ведьма отмщения   \n",
       "1    60692    82910       100     NaN 2018-04-11  Ведьма отмщения   \n",
       "2   138619    82910        67     NaN 2018-05-24  Ведьма отмщения   \n",
       "3    76503    82910        74     NaN 2018-12-21  Ведьма отмщения   \n",
       "4    85408    82910        99     NaN 2019-03-06  Ведьма отмщения   \n",
       "\n",
       "                  genres          authors  year  \n",
       "0  Современные детективы  Галина Романова  2013  \n",
       "1  Современные детективы  Галина Романова  2013  \n",
       "2  Современные детективы  Галина Романова  2013  \n",
       "3  Современные детективы  Галина Романова  2013  \n",
       "4  Современные детективы  Галина Романова  2013  "
      ]
     },
     "execution_count": 22,
     "metadata": {},
     "output_type": "execute_result"
    }
   ],
   "source": [
    "test_int = pd.merge(interactions, items_test, on = 'item_id')\n",
    "test_int.head()"
   ]
  },
  {
   "cell_type": "code",
   "execution_count": 23,
   "id": "immune-faculty",
   "metadata": {
    "execution": {
     "iopub.execute_input": "2021-05-09T21:04:51.426692Z",
     "iopub.status.busy": "2021-05-09T21:04:51.425644Z",
     "iopub.status.idle": "2021-05-09T21:04:51.983132Z",
     "shell.execute_reply": "2021-05-09T21:04:51.982479Z"
    },
    "papermill": {
     "duration": 0.620252,
     "end_time": "2021-05-09T21:04:51.983300",
     "exception": false,
     "start_time": "2021-05-09T21:04:51.363048",
     "status": "completed"
    },
    "tags": []
   },
   "outputs": [
    {
     "data": {
      "text/html": [
       "<div>\n",
       "<style scoped>\n",
       "    .dataframe tbody tr th:only-of-type {\n",
       "        vertical-align: middle;\n",
       "    }\n",
       "\n",
       "    .dataframe tbody tr th {\n",
       "        vertical-align: top;\n",
       "    }\n",
       "\n",
       "    .dataframe thead th {\n",
       "        text-align: right;\n",
       "    }\n",
       "</style>\n",
       "<table border=\"1\" class=\"dataframe\">\n",
       "  <thead>\n",
       "    <tr style=\"text-align: right;\">\n",
       "      <th></th>\n",
       "      <th></th>\n",
       "      <th>rating</th>\n",
       "    </tr>\n",
       "    <tr>\n",
       "      <th>item_id</th>\n",
       "      <th>title</th>\n",
       "      <th></th>\n",
       "    </tr>\n",
       "  </thead>\n",
       "  <tbody>\n",
       "    <tr>\n",
       "      <th>48081</th>\n",
       "      <th>Зулейха открывает глаза</th>\n",
       "      <td>638</td>\n",
       "    </tr>\n",
       "    <tr>\n",
       "      <th>205911</th>\n",
       "      <th>Черновик</th>\n",
       "      <td>459</td>\n",
       "    </tr>\n",
       "    <tr>\n",
       "      <th>279782</th>\n",
       "      <th>Дневники стюардессы. Лихие 90-е</th>\n",
       "      <td>345</td>\n",
       "    </tr>\n",
       "    <tr>\n",
       "      <th>37493</th>\n",
       "      <th>Снеговик</th>\n",
       "      <td>325</td>\n",
       "    </tr>\n",
       "    <tr>\n",
       "      <th>112869</th>\n",
       "      <th>Богатый папа, бедный папа. Роберт Кийосаки (обзор)</th>\n",
       "      <td>324</td>\n",
       "    </tr>\n",
       "    <tr>\n",
       "      <th>48356</th>\n",
       "      <th>Мудрые остроты Раневской</th>\n",
       "      <td>320</td>\n",
       "    </tr>\n",
       "    <tr>\n",
       "      <th>59445</th>\n",
       "      <th>Чистовик</th>\n",
       "      <td>304</td>\n",
       "    </tr>\n",
       "    <tr>\n",
       "      <th>186002</th>\n",
       "      <th>После</th>\n",
       "      <td>301</td>\n",
       "    </tr>\n",
       "    <tr>\n",
       "      <th>75731</th>\n",
       "      <th>Земное притяжение</th>\n",
       "      <td>257</td>\n",
       "    </tr>\n",
       "    <tr>\n",
       "      <th>256154</th>\n",
       "      <th>Девушка в тумане</th>\n",
       "      <td>240</td>\n",
       "    </tr>\n",
       "  </tbody>\n",
       "</table>\n",
       "</div>"
      ],
      "text/plain": [
       "                                                            rating\n",
       "item_id title                                                     \n",
       "48081   Зулейха открывает глаза                                638\n",
       "205911  Черновик                                               459\n",
       "279782  Дневники стюардессы. Лихие 90-е                        345\n",
       "37493   Снеговик                                               325\n",
       "112869  Богатый папа, бедный папа. Роберт Кийосаки (обзор)     324\n",
       "48356   Мудрые остроты Раневской                               320\n",
       "59445   Чистовик                                               304\n",
       "186002  После                                                  301\n",
       "75731   Земное притяжение                                      257\n",
       "256154  Девушка в тумане                                       240"
      ]
     },
     "execution_count": 23,
     "metadata": {},
     "output_type": "execute_result"
    }
   ],
   "source": [
    "#самые оцениваемые \n",
    "test_int.groupby(['item_id', 'title']).agg({ 'rating' : 'count'})\\\n",
    " .sort_values(by = 'rating', ascending = False).head(10)"
   ]
  },
  {
   "cell_type": "code",
   "execution_count": 24,
   "id": "friendly-paper",
   "metadata": {
    "execution": {
     "iopub.execute_input": "2021-05-09T21:04:52.112357Z",
     "iopub.status.busy": "2021-05-09T21:04:52.111166Z",
     "iopub.status.idle": "2021-05-09T21:04:52.191721Z",
     "shell.execute_reply": "2021-05-09T21:04:52.191089Z"
    },
    "papermill": {
     "duration": 0.146007,
     "end_time": "2021-05-09T21:04:52.191885",
     "exception": false,
     "start_time": "2021-05-09T21:04:52.045878",
     "status": "completed"
    },
    "tags": []
   },
   "outputs": [
    {
     "data": {
      "text/plain": [
       "80576     6582\n",
       "319710    2701\n",
       "178529    2571\n",
       "260913    2300\n",
       "79815     2294\n",
       "          ... \n",
       "6573         3\n",
       "117804       3\n",
       "372030       3\n",
       "271527       2\n",
       "241295       2\n",
       "Name: item_id, Length: 63758, dtype: int64"
      ]
     },
     "execution_count": 24,
     "metadata": {},
     "output_type": "execute_result"
    }
   ],
   "source": [
    "interactions['item_id'].value_counts()"
   ]
  },
  {
   "cell_type": "code",
   "execution_count": 25,
   "id": "arabic-experiment",
   "metadata": {
    "execution": {
     "iopub.execute_input": "2021-05-09T21:04:52.313836Z",
     "iopub.status.busy": "2021-05-09T21:04:52.313098Z",
     "iopub.status.idle": "2021-05-09T21:04:52.509137Z",
     "shell.execute_reply": "2021-05-09T21:04:52.509647Z"
    },
    "papermill": {
     "duration": 0.260989,
     "end_time": "2021-05-09T21:04:52.509967",
     "exception": false,
     "start_time": "2021-05-09T21:04:52.248978",
     "status": "completed"
    },
    "tags": []
   },
   "outputs": [
    {
     "data": {
      "text/html": [
       "<div>\n",
       "<style scoped>\n",
       "    .dataframe tbody tr th:only-of-type {\n",
       "        vertical-align: middle;\n",
       "    }\n",
       "\n",
       "    .dataframe tbody tr th {\n",
       "        vertical-align: top;\n",
       "    }\n",
       "\n",
       "    .dataframe thead th {\n",
       "        text-align: right;\n",
       "    }\n",
       "</style>\n",
       "<table border=\"1\" class=\"dataframe\">\n",
       "  <thead>\n",
       "    <tr style=\"text-align: right;\">\n",
       "      <th></th>\n",
       "      <th></th>\n",
       "      <th>rating</th>\n",
       "    </tr>\n",
       "    <tr>\n",
       "      <th>item_id</th>\n",
       "      <th>genres</th>\n",
       "      <th></th>\n",
       "    </tr>\n",
       "  </thead>\n",
       "  <tbody>\n",
       "    <tr>\n",
       "      <th>48081</th>\n",
       "      <th>Современная русская литература</th>\n",
       "      <td>559</td>\n",
       "    </tr>\n",
       "    <tr>\n",
       "      <th>205911</th>\n",
       "      <th>Научная фантастика</th>\n",
       "      <td>355</td>\n",
       "    </tr>\n",
       "    <tr>\n",
       "      <th>37493</th>\n",
       "      <th>Зарубежные детективы,Триллеры,Полицейские детективы,Современные детективы</th>\n",
       "      <td>262</td>\n",
       "    </tr>\n",
       "    <tr>\n",
       "      <th>112869</th>\n",
       "      <th>Личная эффективность,Саморазвитие / личностный рост,Личные финансы</th>\n",
       "      <td>241</td>\n",
       "    </tr>\n",
       "    <tr>\n",
       "      <th>59445</th>\n",
       "      <th>Научная фантастика</th>\n",
       "      <td>229</td>\n",
       "    </tr>\n",
       "    <tr>\n",
       "      <th>186002</th>\n",
       "      <th>Зарубежные любовные романы,Современные любовные романы</th>\n",
       "      <td>227</td>\n",
       "    </tr>\n",
       "    <tr>\n",
       "      <th>75731</th>\n",
       "      <th>Современные детективы,Остросюжетные любовные романы</th>\n",
       "      <td>181</td>\n",
       "    </tr>\n",
       "    <tr>\n",
       "      <th>330824</th>\n",
       "      <th>Героическое фэнтези,Книги про волшебников</th>\n",
       "      <td>178</td>\n",
       "    </tr>\n",
       "    <tr>\n",
       "      <th>111649</th>\n",
       "      <th>Зарубежные любовные романы,Современные любовные романы</th>\n",
       "      <td>172</td>\n",
       "    </tr>\n",
       "    <tr>\n",
       "      <th>256154</th>\n",
       "      <th>Зарубежные детективы,Триллеры</th>\n",
       "      <td>167</td>\n",
       "    </tr>\n",
       "  </tbody>\n",
       "</table>\n",
       "</div>"
      ],
      "text/plain": [
       "                                                            rating\n",
       "item_id genres                                                    \n",
       "48081   Современная русская литература                         559\n",
       "205911  Научная фантастика                                     355\n",
       "37493   Зарубежные детективы,Триллеры,Полицейские детек...     262\n",
       "112869  Личная эффективность,Саморазвитие / личностный ...     241\n",
       "59445   Научная фантастика                                     229\n",
       "186002  Зарубежные любовные романы,Современные любовные...     227\n",
       "75731   Современные детективы,Остросюжетные любовные ро...     181\n",
       "330824  Героическое фэнтези,Книги про волшебников              178\n",
       "111649  Зарубежные любовные романы,Современные любовные...     172\n",
       "256154  Зарубежные детективы,Триллеры                          167"
      ]
     },
     "execution_count": 25,
     "metadata": {},
     "output_type": "execute_result"
    }
   ],
   "source": [
    "#самые оцениваемые с общим рейтом выше среднего ------ оч плохой результат (0.02)\n",
    "test_int['rating'].mean() # == 4 - средняя оценка по всему датасету\n",
    "inter_more_than_avg = test_int[test_int['rating'] > 4]\n",
    "inter_more_than_avg.groupby(['item_id', 'genres']).agg({ 'rating' : 'count'})\\\n",
    " .sort_values(by = 'rating', ascending = False).head(10)"
   ]
  },
  {
   "cell_type": "code",
   "execution_count": 26,
   "id": "entitled-stone",
   "metadata": {
    "execution": {
     "iopub.execute_input": "2021-05-09T21:04:52.631189Z",
     "iopub.status.busy": "2021-05-09T21:04:52.630186Z",
     "iopub.status.idle": "2021-05-09T21:04:52.634271Z",
     "shell.execute_reply": "2021-05-09T21:04:52.633724Z"
    },
    "papermill": {
     "duration": 0.067216,
     "end_time": "2021-05-09T21:04:52.634444",
     "exception": false,
     "start_time": "2021-05-09T21:04:52.567228",
     "status": "completed"
    },
    "tags": []
   },
   "outputs": [],
   "source": [
    "submission_test = submission\n",
    "submission_test.rename(columns = {'Id' : 'user_id'}, inplace = True)"
   ]
  },
  {
   "cell_type": "code",
   "execution_count": 27,
   "id": "optional-charge",
   "metadata": {
    "execution": {
     "iopub.execute_input": "2021-05-09T21:04:52.756490Z",
     "iopub.status.busy": "2021-05-09T21:04:52.755456Z",
     "iopub.status.idle": "2021-05-09T21:04:52.795397Z",
     "shell.execute_reply": "2021-05-09T21:04:52.794750Z"
    },
    "papermill": {
     "duration": 0.10361,
     "end_time": "2021-05-09T21:04:52.795542",
     "exception": false,
     "start_time": "2021-05-09T21:04:52.691932",
     "status": "completed"
    },
    "tags": []
   },
   "outputs": [
    {
     "data": {
      "text/html": [
       "<div>\n",
       "<style scoped>\n",
       "    .dataframe tbody tr th:only-of-type {\n",
       "        vertical-align: middle;\n",
       "    }\n",
       "\n",
       "    .dataframe tbody tr th {\n",
       "        vertical-align: top;\n",
       "    }\n",
       "\n",
       "    .dataframe thead th {\n",
       "        text-align: right;\n",
       "    }\n",
       "</style>\n",
       "<table border=\"1\" class=\"dataframe\">\n",
       "  <thead>\n",
       "    <tr style=\"text-align: right;\">\n",
       "      <th></th>\n",
       "      <th>user_id</th>\n",
       "      <th>Predicted</th>\n",
       "      <th>age</th>\n",
       "      <th>sex</th>\n",
       "    </tr>\n",
       "  </thead>\n",
       "  <tbody>\n",
       "    <tr>\n",
       "      <th>0</th>\n",
       "      <td>10001</td>\n",
       "      <td>313 253 245 205 187 168 155 149 146 128 128 12...</td>\n",
       "      <td>25_34</td>\n",
       "      <td>0.0</td>\n",
       "    </tr>\n",
       "    <tr>\n",
       "      <th>1</th>\n",
       "      <td>10002</td>\n",
       "      <td>313 253 245 205 187 168 155 149 146 128 128 12...</td>\n",
       "      <td>NaN</td>\n",
       "      <td>NaN</td>\n",
       "    </tr>\n",
       "    <tr>\n",
       "      <th>2</th>\n",
       "      <td>100152</td>\n",
       "      <td>313 253 245 205 187 168 155 149 146 128 128 12...</td>\n",
       "      <td>25_34</td>\n",
       "      <td>0.0</td>\n",
       "    </tr>\n",
       "    <tr>\n",
       "      <th>3</th>\n",
       "      <td>100197</td>\n",
       "      <td>313 253 245 205 187 168 155 149 146 128 128 12...</td>\n",
       "      <td>25_34</td>\n",
       "      <td>1.0</td>\n",
       "    </tr>\n",
       "    <tr>\n",
       "      <th>4</th>\n",
       "      <td>100284</td>\n",
       "      <td>313 253 245 205 187 168 155 149 146 128 128 12...</td>\n",
       "      <td>45_54</td>\n",
       "      <td>1.0</td>\n",
       "    </tr>\n",
       "  </tbody>\n",
       "</table>\n",
       "</div>"
      ],
      "text/plain": [
       "   user_id                                          Predicted    age  sex\n",
       "0    10001  313 253 245 205 187 168 155 149 146 128 128 12...  25_34  0.0\n",
       "1    10002  313 253 245 205 187 168 155 149 146 128 128 12...    NaN  NaN\n",
       "2   100152  313 253 245 205 187 168 155 149 146 128 128 12...  25_34  0.0\n",
       "3   100197  313 253 245 205 187 168 155 149 146 128 128 12...  25_34  1.0\n",
       "4   100284  313 253 245 205 187 168 155 149 146 128 128 12...  45_54  1.0"
      ]
     },
     "execution_count": 27,
     "metadata": {},
     "output_type": "execute_result"
    }
   ],
   "source": [
    "test_sub = pd.merge(submission_test,users, on = 'user_id', how = 'left')\n",
    "test_sub.head()"
   ]
  },
  {
   "cell_type": "markdown",
   "id": "artistic-direction",
   "metadata": {
    "papermill": {
     "duration": 0.05949,
     "end_time": "2021-05-09T21:04:52.913308",
     "exception": false,
     "start_time": "2021-05-09T21:04:52.853818",
     "status": "completed"
    },
    "tags": []
   },
   "source": [
    "# Сколько значений неизвестно для тестовой выборки?"
   ]
  },
  {
   "cell_type": "code",
   "execution_count": 28,
   "id": "incomplete-margin",
   "metadata": {
    "execution": {
     "iopub.execute_input": "2021-05-09T21:04:53.040678Z",
     "iopub.status.busy": "2021-05-09T21:04:53.040044Z",
     "iopub.status.idle": "2021-05-09T21:04:53.044215Z",
     "shell.execute_reply": "2021-05-09T21:04:53.044827Z"
    },
    "papermill": {
     "duration": 0.072825,
     "end_time": "2021-05-09T21:04:53.045035",
     "exception": false,
     "start_time": "2021-05-09T21:04:52.972210",
     "status": "completed"
    },
    "tags": []
   },
   "outputs": [
    {
     "data": {
      "text/plain": [
       "user_id        0\n",
       "Predicted      0\n",
       "age          547\n",
       "sex          580\n",
       "dtype: int64"
      ]
     },
     "execution_count": 28,
     "metadata": {},
     "output_type": "execute_result"
    }
   ],
   "source": [
    "test_sub.isna().sum()"
   ]
  },
  {
   "cell_type": "code",
   "execution_count": 29,
   "id": "collect-watts",
   "metadata": {
    "execution": {
     "iopub.execute_input": "2021-05-09T21:04:53.172552Z",
     "iopub.status.busy": "2021-05-09T21:04:53.171880Z",
     "iopub.status.idle": "2021-05-09T21:04:53.453821Z",
     "shell.execute_reply": "2021-05-09T21:04:53.454320Z"
    },
    "papermill": {
     "duration": 0.349199,
     "end_time": "2021-05-09T21:04:53.454525",
     "exception": false,
     "start_time": "2021-05-09T21:04:53.105326",
     "status": "completed"
    },
    "tags": []
   },
   "outputs": [
    {
     "data": {
      "text/html": [
       "<div>\n",
       "<style scoped>\n",
       "    .dataframe tbody tr th:only-of-type {\n",
       "        vertical-align: middle;\n",
       "    }\n",
       "\n",
       "    .dataframe tbody tr th {\n",
       "        vertical-align: top;\n",
       "    }\n",
       "\n",
       "    .dataframe thead th {\n",
       "        text-align: right;\n",
       "    }\n",
       "</style>\n",
       "<table border=\"1\" class=\"dataframe\">\n",
       "  <thead>\n",
       "    <tr style=\"text-align: right;\">\n",
       "      <th></th>\n",
       "      <th>user_id</th>\n",
       "      <th>age</th>\n",
       "      <th>sex</th>\n",
       "      <th>item_id</th>\n",
       "      <th>progress</th>\n",
       "      <th>rating</th>\n",
       "      <th>start_date</th>\n",
       "    </tr>\n",
       "  </thead>\n",
       "  <tbody>\n",
       "    <tr>\n",
       "      <th>0</th>\n",
       "      <td>10001</td>\n",
       "      <td>25_34</td>\n",
       "      <td>0.0</td>\n",
       "      <td>135899</td>\n",
       "      <td>85</td>\n",
       "      <td>NaN</td>\n",
       "      <td>2018-04-28</td>\n",
       "    </tr>\n",
       "    <tr>\n",
       "      <th>1</th>\n",
       "      <td>10001</td>\n",
       "      <td>25_34</td>\n",
       "      <td>0.0</td>\n",
       "      <td>368173</td>\n",
       "      <td>64</td>\n",
       "      <td>NaN</td>\n",
       "      <td>2018-05-08</td>\n",
       "    </tr>\n",
       "    <tr>\n",
       "      <th>2</th>\n",
       "      <td>10001</td>\n",
       "      <td>25_34</td>\n",
       "      <td>0.0</td>\n",
       "      <td>78595</td>\n",
       "      <td>81</td>\n",
       "      <td>NaN</td>\n",
       "      <td>2018-11-27</td>\n",
       "    </tr>\n",
       "    <tr>\n",
       "      <th>3</th>\n",
       "      <td>10001</td>\n",
       "      <td>25_34</td>\n",
       "      <td>0.0</td>\n",
       "      <td>186002</td>\n",
       "      <td>100</td>\n",
       "      <td>5.0</td>\n",
       "      <td>2018-12-07</td>\n",
       "    </tr>\n",
       "    <tr>\n",
       "      <th>4</th>\n",
       "      <td>10001</td>\n",
       "      <td>25_34</td>\n",
       "      <td>0.0</td>\n",
       "      <td>111649</td>\n",
       "      <td>22</td>\n",
       "      <td>NaN</td>\n",
       "      <td>2018-12-19</td>\n",
       "    </tr>\n",
       "  </tbody>\n",
       "</table>\n",
       "</div>"
      ],
      "text/plain": [
       "   user_id    age  sex  item_id  progress  rating start_date\n",
       "0    10001  25_34  0.0   135899        85     NaN 2018-04-28\n",
       "1    10001  25_34  0.0   368173        64     NaN 2018-05-08\n",
       "2    10001  25_34  0.0    78595        81     NaN 2018-11-27\n",
       "3    10001  25_34  0.0   186002       100     5.0 2018-12-07\n",
       "4    10001  25_34  0.0   111649        22     NaN 2018-12-19"
      ]
     },
     "execution_count": 29,
     "metadata": {},
     "output_type": "execute_result"
    }
   ],
   "source": [
    "sub_x = pd.merge(test_sub, interactions)\n",
    "sub_x = sub_x.drop(['Predicted'], axis = 1)\n",
    "sub_x.head()"
   ]
  },
  {
   "cell_type": "code",
   "execution_count": null,
   "id": "celtic-aaron",
   "metadata": {
    "papermill": {
     "duration": 0.060359,
     "end_time": "2021-05-09T21:04:53.577257",
     "exception": false,
     "start_time": "2021-05-09T21:04:53.516898",
     "status": "completed"
    },
    "tags": []
   },
   "outputs": [],
   "source": []
  },
  {
   "cell_type": "code",
   "execution_count": 30,
   "id": "domestic-personality",
   "metadata": {
    "execution": {
     "iopub.execute_input": "2021-05-09T21:04:53.703895Z",
     "iopub.status.busy": "2021-05-09T21:04:53.703178Z",
     "iopub.status.idle": "2021-05-09T21:04:54.631502Z",
     "shell.execute_reply": "2021-05-09T21:04:54.632050Z"
    },
    "papermill": {
     "duration": 0.994011,
     "end_time": "2021-05-09T21:04:54.632257",
     "exception": false,
     "start_time": "2021-05-09T21:04:53.638246",
     "status": "completed"
    },
    "tags": []
   },
   "outputs": [
    {
     "data": {
      "text/html": [
       "<div>\n",
       "<style scoped>\n",
       "    .dataframe tbody tr th:only-of-type {\n",
       "        vertical-align: middle;\n",
       "    }\n",
       "\n",
       "    .dataframe tbody tr th {\n",
       "        vertical-align: top;\n",
       "    }\n",
       "\n",
       "    .dataframe thead th {\n",
       "        text-align: right;\n",
       "    }\n",
       "</style>\n",
       "<table border=\"1\" class=\"dataframe\">\n",
       "  <thead>\n",
       "    <tr style=\"text-align: right;\">\n",
       "      <th></th>\n",
       "      <th>user_id</th>\n",
       "      <th>item_id</th>\n",
       "      <th>progress</th>\n",
       "      <th>rating</th>\n",
       "      <th>start_date</th>\n",
       "      <th>title</th>\n",
       "      <th>genres</th>\n",
       "      <th>authors</th>\n",
       "      <th>year</th>\n",
       "      <th>age</th>\n",
       "      <th>sex</th>\n",
       "    </tr>\n",
       "  </thead>\n",
       "  <tbody>\n",
       "    <tr>\n",
       "      <th>0</th>\n",
       "      <td>90133</td>\n",
       "      <td>82910</td>\n",
       "      <td>100</td>\n",
       "      <td>NaN</td>\n",
       "      <td>2018-01-01</td>\n",
       "      <td>Ведьма отмщения</td>\n",
       "      <td>Современные детективы</td>\n",
       "      <td>Галина Романова</td>\n",
       "      <td>2013</td>\n",
       "      <td>55_64</td>\n",
       "      <td>0.0</td>\n",
       "    </tr>\n",
       "    <tr>\n",
       "      <th>1</th>\n",
       "      <td>90133</td>\n",
       "      <td>26648</td>\n",
       "      <td>100</td>\n",
       "      <td>NaN</td>\n",
       "      <td>2018-10-07</td>\n",
       "      <td>Горький квест. Том 1</td>\n",
       "      <td>Современные детективы</td>\n",
       "      <td>Александра Маринина</td>\n",
       "      <td>2018</td>\n",
       "      <td>55_64</td>\n",
       "      <td>0.0</td>\n",
       "    </tr>\n",
       "    <tr>\n",
       "      <th>2</th>\n",
       "      <td>90133</td>\n",
       "      <td>375531</td>\n",
       "      <td>100</td>\n",
       "      <td>NaN</td>\n",
       "      <td>2018-12-08</td>\n",
       "      <td>Понаехавшая</td>\n",
       "      <td>Современная русская литература</td>\n",
       "      <td>Наринэ Абгарян</td>\n",
       "      <td>2011</td>\n",
       "      <td>55_64</td>\n",
       "      <td>0.0</td>\n",
       "    </tr>\n",
       "    <tr>\n",
       "      <th>3</th>\n",
       "      <td>90133</td>\n",
       "      <td>248404</td>\n",
       "      <td>99</td>\n",
       "      <td>NaN</td>\n",
       "      <td>2018-01-22</td>\n",
       "      <td>Я орёл. Рассказы и повести</td>\n",
       "      <td>Книги о приключениях,Юмор и сатира,Современные...</td>\n",
       "      <td>Дмитрий Коробков</td>\n",
       "      <td>NaN</td>\n",
       "      <td>55_64</td>\n",
       "      <td>0.0</td>\n",
       "    </tr>\n",
       "    <tr>\n",
       "      <th>4</th>\n",
       "      <td>90133</td>\n",
       "      <td>48081</td>\n",
       "      <td>100</td>\n",
       "      <td>NaN</td>\n",
       "      <td>2018-06-17</td>\n",
       "      <td>Зулейха открывает глаза</td>\n",
       "      <td>Современная русская литература</td>\n",
       "      <td>Гузель Яхина</td>\n",
       "      <td>2015</td>\n",
       "      <td>55_64</td>\n",
       "      <td>0.0</td>\n",
       "    </tr>\n",
       "  </tbody>\n",
       "</table>\n",
       "</div>"
      ],
      "text/plain": [
       "   user_id  item_id  progress  rating start_date                       title  \\\n",
       "0    90133    82910       100     NaN 2018-01-01             Ведьма отмщения   \n",
       "1    90133    26648       100     NaN 2018-10-07        Горький квест. Том 1   \n",
       "2    90133   375531       100     NaN 2018-12-08                 Понаехавшая   \n",
       "3    90133   248404        99     NaN 2018-01-22  Я орёл. Рассказы и повести   \n",
       "4    90133    48081       100     NaN 2018-06-17     Зулейха открывает глаза   \n",
       "\n",
       "                                              genres              authors  \\\n",
       "0                              Современные детективы      Галина Романова   \n",
       "1                              Современные детективы  Александра Маринина   \n",
       "2                     Современная русская литература       Наринэ Абгарян   \n",
       "3  Книги о приключениях,Юмор и сатира,Современные...     Дмитрий Коробков   \n",
       "4                     Современная русская литература         Гузель Яхина   \n",
       "\n",
       "   year    age  sex  \n",
       "0  2013  55_64  0.0  \n",
       "1  2018  55_64  0.0  \n",
       "2  2011  55_64  0.0  \n",
       "3   NaN  55_64  0.0  \n",
       "4  2015  55_64  0.0  "
      ]
     },
     "execution_count": 30,
     "metadata": {},
     "output_type": "execute_result"
    }
   ],
   "source": [
    "test_full = pd.merge(test_int, users, on = 'user_id')\n",
    "test_full.head()"
   ]
  },
  {
   "cell_type": "code",
   "execution_count": 31,
   "id": "instructional-advantage",
   "metadata": {
    "execution": {
     "iopub.execute_input": "2021-05-09T21:04:54.762014Z",
     "iopub.status.busy": "2021-05-09T21:04:54.761274Z",
     "iopub.status.idle": "2021-05-09T21:04:55.303829Z",
     "shell.execute_reply": "2021-05-09T21:04:55.303206Z"
    },
    "papermill": {
     "duration": 0.610512,
     "end_time": "2021-05-09T21:04:55.304013",
     "exception": false,
     "start_time": "2021-05-09T21:04:54.693501",
     "status": "completed"
    },
    "tags": []
   },
   "outputs": [
    {
     "data": {
      "text/html": [
       "<div>\n",
       "<style scoped>\n",
       "    .dataframe tbody tr th:only-of-type {\n",
       "        vertical-align: middle;\n",
       "    }\n",
       "\n",
       "    .dataframe tbody tr th {\n",
       "        vertical-align: top;\n",
       "    }\n",
       "\n",
       "    .dataframe thead th {\n",
       "        text-align: right;\n",
       "    }\n",
       "</style>\n",
       "<table border=\"1\" class=\"dataframe\">\n",
       "  <thead>\n",
       "    <tr style=\"text-align: right;\">\n",
       "      <th></th>\n",
       "      <th></th>\n",
       "      <th></th>\n",
       "      <th>rating</th>\n",
       "    </tr>\n",
       "    <tr>\n",
       "      <th>item_id</th>\n",
       "      <th>genres</th>\n",
       "      <th>age</th>\n",
       "      <th></th>\n",
       "    </tr>\n",
       "  </thead>\n",
       "  <tbody>\n",
       "    <tr>\n",
       "      <th rowspan=\"3\" valign=\"top\">48081</th>\n",
       "      <th rowspan=\"3\" valign=\"top\">Современная русская литература</th>\n",
       "      <th>35_44</th>\n",
       "      <td>158</td>\n",
       "    </tr>\n",
       "    <tr>\n",
       "      <th>25_34</th>\n",
       "      <td>123</td>\n",
       "    </tr>\n",
       "    <tr>\n",
       "      <th>45_54</th>\n",
       "      <td>119</td>\n",
       "    </tr>\n",
       "    <tr>\n",
       "      <th rowspan=\"3\" valign=\"top\">205911</th>\n",
       "      <th rowspan=\"3\" valign=\"top\">Научная фантастика</th>\n",
       "      <th>35_44</th>\n",
       "      <td>87</td>\n",
       "    </tr>\n",
       "    <tr>\n",
       "      <th>25_34</th>\n",
       "      <td>86</td>\n",
       "    </tr>\n",
       "    <tr>\n",
       "      <th>45_54</th>\n",
       "      <td>83</td>\n",
       "    </tr>\n",
       "    <tr>\n",
       "      <th>37493</th>\n",
       "      <th>Зарубежные детективы,Триллеры,Полицейские детективы,Современные детективы</th>\n",
       "      <th>35_44</th>\n",
       "      <td>71</td>\n",
       "    </tr>\n",
       "    <tr>\n",
       "      <th>186002</th>\n",
       "      <th>Зарубежные любовные романы,Современные любовные романы</th>\n",
       "      <th>25_34</th>\n",
       "      <td>70</td>\n",
       "    </tr>\n",
       "    <tr>\n",
       "      <th>112869</th>\n",
       "      <th>Личная эффективность,Саморазвитие / личностный рост,Личные финансы</th>\n",
       "      <th>25_34</th>\n",
       "      <td>67</td>\n",
       "    </tr>\n",
       "    <tr>\n",
       "      <th>186002</th>\n",
       "      <th>Зарубежные любовные романы,Современные любовные романы</th>\n",
       "      <th>18_24</th>\n",
       "      <td>66</td>\n",
       "    </tr>\n",
       "  </tbody>\n",
       "</table>\n",
       "</div>"
      ],
      "text/plain": [
       "                                                                  rating\n",
       "item_id genres                                             age          \n",
       "48081   Современная русская литература                     35_44     158\n",
       "                                                           25_34     123\n",
       "                                                           45_54     119\n",
       "205911  Научная фантастика                                 35_44      87\n",
       "                                                           25_34      86\n",
       "                                                           45_54      83\n",
       "37493   Зарубежные детективы,Триллеры,Полицейские детек... 35_44      71\n",
       "186002  Зарубежные любовные романы,Современные любовные... 25_34      70\n",
       "112869  Личная эффективность,Саморазвитие / личностный ... 25_34      67\n",
       "186002  Зарубежные любовные романы,Современные любовные... 18_24      66"
      ]
     },
     "execution_count": 31,
     "metadata": {},
     "output_type": "execute_result"
    }
   ],
   "source": [
    "test_int['rating'].mean() # == 4 - средняя оценка по всему датасету\n",
    "inter_more_than_avg = test_full[test_full['rating'] > 4]\n",
    "inter_more_than_avg.groupby(['item_id', 'genres', 'age']).agg({ 'rating' : 'count'})\\\n",
    " .sort_values(by = 'rating', ascending = False).head(10)"
   ]
  },
  {
   "cell_type": "code",
   "execution_count": 32,
   "id": "elementary-young",
   "metadata": {
    "execution": {
     "iopub.execute_input": "2021-05-09T21:04:55.453234Z",
     "iopub.status.busy": "2021-05-09T21:04:55.442629Z",
     "iopub.status.idle": "2021-05-09T21:04:56.362396Z",
     "shell.execute_reply": "2021-05-09T21:04:56.361860Z"
    },
    "papermill": {
     "duration": 0.996137,
     "end_time": "2021-05-09T21:04:56.362551",
     "exception": false,
     "start_time": "2021-05-09T21:04:55.366414",
     "status": "completed"
    },
    "tags": []
   },
   "outputs": [
    {
     "data": {
      "text/plain": [
       "item_id\n",
       "48081     580\n",
       "205911    420\n",
       "37493     294\n",
       "279782    289\n",
       "48356     280\n",
       "         ... \n",
       "274051      0\n",
       "274081      0\n",
       "307636      0\n",
       "367015      0\n",
       "196161      0\n",
       "Name: rating, Length: 63758, dtype: int64"
      ]
     },
     "execution_count": 32,
     "metadata": {},
     "output_type": "execute_result"
    }
   ],
   "source": [
    "test_full.groupby('item_id').count().rating.sort_values(ascending = False)"
   ]
  },
  {
   "cell_type": "code",
   "execution_count": 33,
   "id": "noticed-energy",
   "metadata": {
    "execution": {
     "iopub.execute_input": "2021-05-09T21:04:56.489438Z",
     "iopub.status.busy": "2021-05-09T21:04:56.488794Z",
     "iopub.status.idle": "2021-05-09T21:04:56.491571Z",
     "shell.execute_reply": "2021-05-09T21:04:56.492135Z"
    },
    "papermill": {
     "duration": 0.068601,
     "end_time": "2021-05-09T21:04:56.492329",
     "exception": false,
     "start_time": "2021-05-09T21:04:56.423728",
     "status": "completed"
    },
    "tags": []
   },
   "outputs": [],
   "source": [
    "#попробуем найти самое популярное по возрасту"
   ]
  },
  {
   "cell_type": "code",
   "execution_count": 34,
   "id": "suited-monthly",
   "metadata": {
    "execution": {
     "iopub.execute_input": "2021-05-09T21:04:56.619195Z",
     "iopub.status.busy": "2021-05-09T21:04:56.618351Z",
     "iopub.status.idle": "2021-05-09T21:04:57.140702Z",
     "shell.execute_reply": "2021-05-09T21:04:57.140090Z"
    },
    "papermill": {
     "duration": 0.587221,
     "end_time": "2021-05-09T21:04:57.140898",
     "exception": false,
     "start_time": "2021-05-09T21:04:56.553677",
     "status": "completed"
    },
    "tags": []
   },
   "outputs": [],
   "source": [
    "d = {'item_id' : 'count'}\n",
    "hui = test_full.groupby(['age', 'item_id']).agg(d)\n",
    "hui = hui.rename_axis(index = {'item_id' : 'book_id'}).sort_values(by = 'item_id', ascending = False)"
   ]
  },
  {
   "cell_type": "code",
   "execution_count": 35,
   "id": "individual-suggestion",
   "metadata": {
    "execution": {
     "iopub.execute_input": "2021-05-09T21:04:57.315139Z",
     "iopub.status.busy": "2021-05-09T21:04:57.314016Z",
     "iopub.status.idle": "2021-05-09T21:04:57.338183Z",
     "shell.execute_reply": "2021-05-09T21:04:57.338740Z"
    },
    "papermill": {
     "duration": 0.111591,
     "end_time": "2021-05-09T21:04:57.338951",
     "exception": false,
     "start_time": "2021-05-09T21:04:57.227360",
     "status": "completed"
    },
    "tags": []
   },
   "outputs": [
    {
     "data": {
      "text/html": [
       "<div>\n",
       "<style scoped>\n",
       "    .dataframe tbody tr th:only-of-type {\n",
       "        vertical-align: middle;\n",
       "    }\n",
       "\n",
       "    .dataframe tbody tr th {\n",
       "        vertical-align: top;\n",
       "    }\n",
       "\n",
       "    .dataframe thead th {\n",
       "        text-align: right;\n",
       "    }\n",
       "</style>\n",
       "<table border=\"1\" class=\"dataframe\">\n",
       "  <thead>\n",
       "    <tr style=\"text-align: right;\">\n",
       "      <th></th>\n",
       "      <th>age</th>\n",
       "      <th>book_id</th>\n",
       "      <th>item_id</th>\n",
       "    </tr>\n",
       "  </thead>\n",
       "  <tbody>\n",
       "    <tr>\n",
       "      <th>0</th>\n",
       "      <td>25_34</td>\n",
       "      <td>80576</td>\n",
       "      <td>1952</td>\n",
       "    </tr>\n",
       "    <tr>\n",
       "      <th>1</th>\n",
       "      <td>35_44</td>\n",
       "      <td>80576</td>\n",
       "      <td>1290</td>\n",
       "    </tr>\n",
       "    <tr>\n",
       "      <th>2</th>\n",
       "      <td>18_24</td>\n",
       "      <td>80576</td>\n",
       "      <td>1165</td>\n",
       "    </tr>\n",
       "    <tr>\n",
       "      <th>3</th>\n",
       "      <td>45_54</td>\n",
       "      <td>80576</td>\n",
       "      <td>749</td>\n",
       "    </tr>\n",
       "    <tr>\n",
       "      <th>4</th>\n",
       "      <td>25_34</td>\n",
       "      <td>249083</td>\n",
       "      <td>676</td>\n",
       "    </tr>\n",
       "  </tbody>\n",
       "</table>\n",
       "</div>"
      ],
      "text/plain": [
       "     age  book_id  item_id\n",
       "0  25_34    80576     1952\n",
       "1  35_44    80576     1290\n",
       "2  18_24    80576     1165\n",
       "3  45_54    80576      749\n",
       "4  25_34   249083      676"
      ]
     },
     "execution_count": 35,
     "metadata": {},
     "output_type": "execute_result"
    }
   ],
   "source": [
    "hui.reset_index(inplace = True)\n",
    "hui.head()"
   ]
  },
  {
   "cell_type": "code",
   "execution_count": 36,
   "id": "portuguese-discussion",
   "metadata": {
    "execution": {
     "iopub.execute_input": "2021-05-09T21:04:57.497602Z",
     "iopub.status.busy": "2021-05-09T21:04:57.489392Z",
     "iopub.status.idle": "2021-05-09T21:04:57.542058Z",
     "shell.execute_reply": "2021-05-09T21:04:57.541187Z"
    },
    "papermill": {
     "duration": 0.123202,
     "end_time": "2021-05-09T21:04:57.542278",
     "exception": false,
     "start_time": "2021-05-09T21:04:57.419076",
     "status": "completed"
    },
    "tags": []
   },
   "outputs": [],
   "source": [
    "hui2 = hui.groupby(['age']).head(10)"
   ]
  },
  {
   "cell_type": "code",
   "execution_count": null,
   "id": "geographic-breeding",
   "metadata": {
    "papermill": {
     "duration": 0.063276,
     "end_time": "2021-05-09T21:04:57.672691",
     "exception": false,
     "start_time": "2021-05-09T21:04:57.609415",
     "status": "completed"
    },
    "tags": []
   },
   "outputs": [],
   "source": []
  },
  {
   "cell_type": "code",
   "execution_count": 37,
   "id": "confused-graph",
   "metadata": {
    "execution": {
     "iopub.execute_input": "2021-05-09T21:04:57.822963Z",
     "iopub.status.busy": "2021-05-09T21:04:57.821903Z",
     "iopub.status.idle": "2021-05-09T21:04:57.826053Z",
     "shell.execute_reply": "2021-05-09T21:04:57.826637Z"
    },
    "papermill": {
     "duration": 0.087209,
     "end_time": "2021-05-09T21:04:57.826869",
     "exception": false,
     "start_time": "2021-05-09T21:04:57.739660",
     "status": "completed"
    },
    "tags": []
   },
   "outputs": [
    {
     "data": {
      "text/html": [
       "<div>\n",
       "<style scoped>\n",
       "    .dataframe tbody tr th:only-of-type {\n",
       "        vertical-align: middle;\n",
       "    }\n",
       "\n",
       "    .dataframe tbody tr th {\n",
       "        vertical-align: top;\n",
       "    }\n",
       "\n",
       "    .dataframe thead th {\n",
       "        text-align: right;\n",
       "    }\n",
       "</style>\n",
       "<table border=\"1\" class=\"dataframe\">\n",
       "  <thead>\n",
       "    <tr style=\"text-align: right;\">\n",
       "      <th></th>\n",
       "      <th>age</th>\n",
       "      <th>book_id</th>\n",
       "      <th>item_id</th>\n",
       "    </tr>\n",
       "  </thead>\n",
       "  <tbody>\n",
       "    <tr>\n",
       "      <th>23</th>\n",
       "      <td>65_inf</td>\n",
       "      <td>178529</td>\n",
       "      <td>401</td>\n",
       "    </tr>\n",
       "    <tr>\n",
       "      <th>49</th>\n",
       "      <td>65_inf</td>\n",
       "      <td>319710</td>\n",
       "      <td>331</td>\n",
       "    </tr>\n",
       "    <tr>\n",
       "      <th>88</th>\n",
       "      <td>65_inf</td>\n",
       "      <td>270299</td>\n",
       "      <td>246</td>\n",
       "    </tr>\n",
       "    <tr>\n",
       "      <th>120</th>\n",
       "      <td>65_inf</td>\n",
       "      <td>79815</td>\n",
       "      <td>212</td>\n",
       "    </tr>\n",
       "    <tr>\n",
       "      <th>217</th>\n",
       "      <td>65_inf</td>\n",
       "      <td>260913</td>\n",
       "      <td>154</td>\n",
       "    </tr>\n",
       "    <tr>\n",
       "      <th>224</th>\n",
       "      <td>65_inf</td>\n",
       "      <td>3484</td>\n",
       "      <td>152</td>\n",
       "    </tr>\n",
       "    <tr>\n",
       "      <th>241</th>\n",
       "      <td>65_inf</td>\n",
       "      <td>37493</td>\n",
       "      <td>146</td>\n",
       "    </tr>\n",
       "    <tr>\n",
       "      <th>242</th>\n",
       "      <td>65_inf</td>\n",
       "      <td>210450</td>\n",
       "      <td>146</td>\n",
       "    </tr>\n",
       "    <tr>\n",
       "      <th>263</th>\n",
       "      <td>65_inf</td>\n",
       "      <td>386271</td>\n",
       "      <td>139</td>\n",
       "    </tr>\n",
       "    <tr>\n",
       "      <th>370</th>\n",
       "      <td>65_inf</td>\n",
       "      <td>340191</td>\n",
       "      <td>111</td>\n",
       "    </tr>\n",
       "  </tbody>\n",
       "</table>\n",
       "</div>"
      ],
      "text/plain": [
       "        age  book_id  item_id\n",
       "23   65_inf   178529      401\n",
       "49   65_inf   319710      331\n",
       "88   65_inf   270299      246\n",
       "120  65_inf    79815      212\n",
       "217  65_inf   260913      154\n",
       "224  65_inf     3484      152\n",
       "241  65_inf    37493      146\n",
       "242  65_inf   210450      146\n",
       "263  65_inf   386271      139\n",
       "370  65_inf   340191      111"
      ]
     },
     "execution_count": 37,
     "metadata": {},
     "output_type": "execute_result"
    }
   ],
   "source": [
    "hui2[hui2['age'] == '65_inf']"
   ]
  },
  {
   "cell_type": "markdown",
   "id": "potential-uzbekistan",
   "metadata": {
    "papermill": {
     "duration": 0.068484,
     "end_time": "2021-05-09T21:04:57.962648",
     "exception": false,
     "start_time": "2021-05-09T21:04:57.894164",
     "status": "completed"
    },
    "tags": []
   },
   "source": [
    "## Посоветуем самые популярные книги по возрасту там, где указан\n",
    "### А где не указан - самые популярные за последние 35 дней"
   ]
  },
  {
   "cell_type": "code",
   "execution_count": 38,
   "id": "infinite-movement",
   "metadata": {
    "execution": {
     "iopub.execute_input": "2021-05-09T21:04:58.105284Z",
     "iopub.status.busy": "2021-05-09T21:04:58.104239Z",
     "iopub.status.idle": "2021-05-09T21:04:58.109814Z",
     "shell.execute_reply": "2021-05-09T21:04:58.110281Z"
    },
    "papermill": {
     "duration": 0.078736,
     "end_time": "2021-05-09T21:04:58.110498",
     "exception": false,
     "start_time": "2021-05-09T21:04:58.031762",
     "status": "completed"
    },
    "tags": []
   },
   "outputs": [],
   "source": [
    "#самые популярные книги 18_24\n",
    "list1824 = '80576 260913 186002 240858 376516 112869 249083 142970 1194 316483'\n",
    "#самые популярные книги 25_34\n",
    "list2534 = '80576 249083 48081 112869 112869 37493 170357 240858 25486 23938 3484'\n",
    "#самые популярные книги 35_44\n",
    "list3544 = '80576 48081 37493 319710 79815 3484 249083 240858 260913 61100'\n",
    "#самые популярные книги 45_54\n",
    "list4554 = '80576 319710 79815 178529 270299 37493 3484 48081 210450 260913'\n",
    "#самые популярные книги 55_64\n",
    "list5564 = '178529 319710 79815 270299 80576 210450 3484 37493 260913 386271'\n",
    "#самые популярные книги 65_inf\n",
    "list65inf = '178529 319710 270299 79815 260913 3484 37493 210450 386271 340191'"
   ]
  },
  {
   "cell_type": "code",
   "execution_count": 39,
   "id": "consistent-division",
   "metadata": {
    "execution": {
     "iopub.execute_input": "2021-05-09T21:04:58.261477Z",
     "iopub.status.busy": "2021-05-09T21:04:58.260622Z",
     "iopub.status.idle": "2021-05-09T21:04:58.262986Z",
     "shell.execute_reply": "2021-05-09T21:04:58.263463Z"
    },
    "papermill": {
     "duration": 0.086141,
     "end_time": "2021-05-09T21:04:58.263666",
     "exception": false,
     "start_time": "2021-05-09T21:04:58.177525",
     "status": "completed"
    },
    "tags": []
   },
   "outputs": [],
   "source": [
    "test_sub.loc[test_sub['age'] == '18_24', 'Predicted'] = list1824\n",
    "test_sub.loc[test_sub['age'] == '25_34', 'Predicted'] = list2534\n",
    "test_sub.loc[test_sub['age'] == '35_44', 'Predicted'] = list3544\n",
    "test_sub.loc[test_sub['age'] == '45_54', 'Predicted'] = list4554\n",
    "test_sub.loc[test_sub['age'] == '55_64', 'Predicted'] = list5564\n",
    "test_sub.loc[test_sub['age'] == '65_inf', 'Predicted'] = list65inf\n"
   ]
  },
  {
   "cell_type": "code",
   "execution_count": 40,
   "id": "charitable-fraction",
   "metadata": {
    "execution": {
     "iopub.execute_input": "2021-05-09T21:04:58.393930Z",
     "iopub.status.busy": "2021-05-09T21:04:58.393271Z",
     "iopub.status.idle": "2021-05-09T21:04:58.400603Z",
     "shell.execute_reply": "2021-05-09T21:04:58.399907Z"
    },
    "papermill": {
     "duration": 0.073144,
     "end_time": "2021-05-09T21:04:58.400786",
     "exception": false,
     "start_time": "2021-05-09T21:04:58.327642",
     "status": "completed"
    },
    "tags": []
   },
   "outputs": [],
   "source": [
    "test_sub.loc[test_sub['age'].isna(), 'Predicted'] = '283713 184549 276903 168963 357309 143175 385281 80003 55466 267817'"
   ]
  },
  {
   "cell_type": "code",
   "execution_count": 41,
   "id": "forbidden-movie",
   "metadata": {
    "execution": {
     "iopub.execute_input": "2021-05-09T21:04:58.546217Z",
     "iopub.status.busy": "2021-05-09T21:04:58.545262Z",
     "iopub.status.idle": "2021-05-09T21:04:58.549199Z",
     "shell.execute_reply": "2021-05-09T21:04:58.549724Z"
    },
    "papermill": {
     "duration": 0.085718,
     "end_time": "2021-05-09T21:04:58.549913",
     "exception": false,
     "start_time": "2021-05-09T21:04:58.464195",
     "status": "completed"
    },
    "tags": []
   },
   "outputs": [
    {
     "data": {
      "text/html": [
       "<div>\n",
       "<style scoped>\n",
       "    .dataframe tbody tr th:only-of-type {\n",
       "        vertical-align: middle;\n",
       "    }\n",
       "\n",
       "    .dataframe tbody tr th {\n",
       "        vertical-align: top;\n",
       "    }\n",
       "\n",
       "    .dataframe thead th {\n",
       "        text-align: right;\n",
       "    }\n",
       "</style>\n",
       "<table border=\"1\" class=\"dataframe\">\n",
       "  <thead>\n",
       "    <tr style=\"text-align: right;\">\n",
       "      <th></th>\n",
       "      <th>user_id</th>\n",
       "      <th>Predicted</th>\n",
       "      <th>age</th>\n",
       "      <th>sex</th>\n",
       "    </tr>\n",
       "  </thead>\n",
       "  <tbody>\n",
       "    <tr>\n",
       "      <th>0</th>\n",
       "      <td>10001</td>\n",
       "      <td>80576 249083 48081 112869 112869 37493 170357 ...</td>\n",
       "      <td>25_34</td>\n",
       "      <td>0.0</td>\n",
       "    </tr>\n",
       "    <tr>\n",
       "      <th>1</th>\n",
       "      <td>10002</td>\n",
       "      <td>283713 184549 276903 168963 357309 143175 3852...</td>\n",
       "      <td>NaN</td>\n",
       "      <td>NaN</td>\n",
       "    </tr>\n",
       "    <tr>\n",
       "      <th>2</th>\n",
       "      <td>100152</td>\n",
       "      <td>80576 249083 48081 112869 112869 37493 170357 ...</td>\n",
       "      <td>25_34</td>\n",
       "      <td>0.0</td>\n",
       "    </tr>\n",
       "    <tr>\n",
       "      <th>3</th>\n",
       "      <td>100197</td>\n",
       "      <td>80576 249083 48081 112869 112869 37493 170357 ...</td>\n",
       "      <td>25_34</td>\n",
       "      <td>1.0</td>\n",
       "    </tr>\n",
       "    <tr>\n",
       "      <th>4</th>\n",
       "      <td>100284</td>\n",
       "      <td>80576 319710 79815 178529 270299 37493 3484 48...</td>\n",
       "      <td>45_54</td>\n",
       "      <td>1.0</td>\n",
       "    </tr>\n",
       "    <tr>\n",
       "      <th>...</th>\n",
       "      <td>...</td>\n",
       "      <td>...</td>\n",
       "      <td>...</td>\n",
       "      <td>...</td>\n",
       "    </tr>\n",
       "    <tr>\n",
       "      <th>3069</th>\n",
       "      <td>99734</td>\n",
       "      <td>80576 260913 186002 240858 376516 112869 24908...</td>\n",
       "      <td>18_24</td>\n",
       "      <td>0.0</td>\n",
       "    </tr>\n",
       "    <tr>\n",
       "      <th>3070</th>\n",
       "      <td>99757</td>\n",
       "      <td>80576 260913 186002 240858 376516 112869 24908...</td>\n",
       "      <td>18_24</td>\n",
       "      <td>0.0</td>\n",
       "    </tr>\n",
       "    <tr>\n",
       "      <th>3071</th>\n",
       "      <td>99772</td>\n",
       "      <td>80576 249083 48081 112869 112869 37493 170357 ...</td>\n",
       "      <td>25_34</td>\n",
       "      <td>0.0</td>\n",
       "    </tr>\n",
       "    <tr>\n",
       "      <th>3072</th>\n",
       "      <td>99827</td>\n",
       "      <td>80576 48081 37493 319710 79815 3484 249083 240...</td>\n",
       "      <td>35_44</td>\n",
       "      <td>0.0</td>\n",
       "    </tr>\n",
       "    <tr>\n",
       "      <th>3073</th>\n",
       "      <td>99881</td>\n",
       "      <td>80576 48081 37493 319710 79815 3484 249083 240...</td>\n",
       "      <td>35_44</td>\n",
       "      <td>0.0</td>\n",
       "    </tr>\n",
       "  </tbody>\n",
       "</table>\n",
       "<p>3074 rows × 4 columns</p>\n",
       "</div>"
      ],
      "text/plain": [
       "      user_id                                          Predicted    age  sex\n",
       "0       10001  80576 249083 48081 112869 112869 37493 170357 ...  25_34  0.0\n",
       "1       10002  283713 184549 276903 168963 357309 143175 3852...    NaN  NaN\n",
       "2      100152  80576 249083 48081 112869 112869 37493 170357 ...  25_34  0.0\n",
       "3      100197  80576 249083 48081 112869 112869 37493 170357 ...  25_34  1.0\n",
       "4      100284  80576 319710 79815 178529 270299 37493 3484 48...  45_54  1.0\n",
       "...       ...                                                ...    ...  ...\n",
       "3069    99734  80576 260913 186002 240858 376516 112869 24908...  18_24  0.0\n",
       "3070    99757  80576 260913 186002 240858 376516 112869 24908...  18_24  0.0\n",
       "3071    99772  80576 249083 48081 112869 112869 37493 170357 ...  25_34  0.0\n",
       "3072    99827  80576 48081 37493 319710 79815 3484 249083 240...  35_44  0.0\n",
       "3073    99881  80576 48081 37493 319710 79815 3484 249083 240...  35_44  0.0\n",
       "\n",
       "[3074 rows x 4 columns]"
      ]
     },
     "execution_count": 41,
     "metadata": {},
     "output_type": "execute_result"
    }
   ],
   "source": [
    "test_sub"
   ]
  },
  {
   "cell_type": "code",
   "execution_count": 42,
   "id": "global-healing",
   "metadata": {
    "execution": {
     "iopub.execute_input": "2021-05-09T21:04:58.686200Z",
     "iopub.status.busy": "2021-05-09T21:04:58.681758Z",
     "iopub.status.idle": "2021-05-09T21:04:58.691894Z",
     "shell.execute_reply": "2021-05-09T21:04:58.691256Z"
    },
    "papermill": {
     "duration": 0.078072,
     "end_time": "2021-05-09T21:04:58.692070",
     "exception": false,
     "start_time": "2021-05-09T21:04:58.613998",
     "status": "completed"
    },
    "tags": []
   },
   "outputs": [],
   "source": [
    "yolo1 = test_sub.drop(['age', 'sex'], axis = 1)\n",
    "yolo1 = yolo1.rename(columns = {'user_id' : 'Id'})"
   ]
  },
  {
   "cell_type": "code",
   "execution_count": 43,
   "id": "elder-treat",
   "metadata": {
    "execution": {
     "iopub.execute_input": "2021-05-09T21:04:58.828055Z",
     "iopub.status.busy": "2021-05-09T21:04:58.827001Z",
     "iopub.status.idle": "2021-05-09T21:04:58.846102Z",
     "shell.execute_reply": "2021-05-09T21:04:58.845538Z"
    },
    "papermill": {
     "duration": 0.089703,
     "end_time": "2021-05-09T21:04:58.846268",
     "exception": false,
     "start_time": "2021-05-09T21:04:58.756565",
     "status": "completed"
    },
    "tags": []
   },
   "outputs": [],
   "source": [
    "yolo1.to_csv('yolo_sub.csv', index=False)"
   ]
  },
  {
   "cell_type": "markdown",
   "id": "fallen-commander",
   "metadata": {
    "papermill": {
     "duration": 0.064689,
     "end_time": "2021-05-09T21:04:58.977788",
     "exception": false,
     "start_time": "2021-05-09T21:04:58.913099",
     "status": "completed"
    },
    "tags": []
   },
   "source": [
    "## Попробуем теперь сделать то же самое но для последних 28 дней"
   ]
  },
  {
   "cell_type": "code",
   "execution_count": 44,
   "id": "dominant-vermont",
   "metadata": {
    "execution": {
     "iopub.execute_input": "2021-05-09T21:04:59.111483Z",
     "iopub.status.busy": "2021-05-09T21:04:59.110455Z",
     "iopub.status.idle": "2021-05-09T21:04:59.127951Z",
     "shell.execute_reply": "2021-05-09T21:04:59.128405Z"
    },
    "papermill": {
     "duration": 0.08569,
     "end_time": "2021-05-09T21:04:59.128587",
     "exception": false,
     "start_time": "2021-05-09T21:04:59.042897",
     "status": "completed"
    },
    "tags": []
   },
   "outputs": [
    {
     "data": {
      "text/html": [
       "<div>\n",
       "<style scoped>\n",
       "    .dataframe tbody tr th:only-of-type {\n",
       "        vertical-align: middle;\n",
       "    }\n",
       "\n",
       "    .dataframe tbody tr th {\n",
       "        vertical-align: top;\n",
       "    }\n",
       "\n",
       "    .dataframe thead th {\n",
       "        text-align: right;\n",
       "    }\n",
       "</style>\n",
       "<table border=\"1\" class=\"dataframe\">\n",
       "  <thead>\n",
       "    <tr style=\"text-align: right;\">\n",
       "      <th></th>\n",
       "      <th>user_id</th>\n",
       "      <th>item_id</th>\n",
       "      <th>progress</th>\n",
       "      <th>rating</th>\n",
       "      <th>start_date</th>\n",
       "      <th>title</th>\n",
       "      <th>genres</th>\n",
       "      <th>authors</th>\n",
       "      <th>year</th>\n",
       "      <th>age</th>\n",
       "      <th>sex</th>\n",
       "    </tr>\n",
       "  </thead>\n",
       "  <tbody>\n",
       "    <tr>\n",
       "      <th>0</th>\n",
       "      <td>90133</td>\n",
       "      <td>82910</td>\n",
       "      <td>100</td>\n",
       "      <td>NaN</td>\n",
       "      <td>2018-01-01</td>\n",
       "      <td>Ведьма отмщения</td>\n",
       "      <td>Современные детективы</td>\n",
       "      <td>Галина Романова</td>\n",
       "      <td>2013</td>\n",
       "      <td>55_64</td>\n",
       "      <td>0.0</td>\n",
       "    </tr>\n",
       "    <tr>\n",
       "      <th>1</th>\n",
       "      <td>90133</td>\n",
       "      <td>26648</td>\n",
       "      <td>100</td>\n",
       "      <td>NaN</td>\n",
       "      <td>2018-10-07</td>\n",
       "      <td>Горький квест. Том 1</td>\n",
       "      <td>Современные детективы</td>\n",
       "      <td>Александра Маринина</td>\n",
       "      <td>2018</td>\n",
       "      <td>55_64</td>\n",
       "      <td>0.0</td>\n",
       "    </tr>\n",
       "    <tr>\n",
       "      <th>2</th>\n",
       "      <td>90133</td>\n",
       "      <td>375531</td>\n",
       "      <td>100</td>\n",
       "      <td>NaN</td>\n",
       "      <td>2018-12-08</td>\n",
       "      <td>Понаехавшая</td>\n",
       "      <td>Современная русская литература</td>\n",
       "      <td>Наринэ Абгарян</td>\n",
       "      <td>2011</td>\n",
       "      <td>55_64</td>\n",
       "      <td>0.0</td>\n",
       "    </tr>\n",
       "    <tr>\n",
       "      <th>3</th>\n",
       "      <td>90133</td>\n",
       "      <td>248404</td>\n",
       "      <td>99</td>\n",
       "      <td>NaN</td>\n",
       "      <td>2018-01-22</td>\n",
       "      <td>Я орёл. Рассказы и повести</td>\n",
       "      <td>Книги о приключениях,Юмор и сатира,Современные...</td>\n",
       "      <td>Дмитрий Коробков</td>\n",
       "      <td>NaN</td>\n",
       "      <td>55_64</td>\n",
       "      <td>0.0</td>\n",
       "    </tr>\n",
       "    <tr>\n",
       "      <th>4</th>\n",
       "      <td>90133</td>\n",
       "      <td>48081</td>\n",
       "      <td>100</td>\n",
       "      <td>NaN</td>\n",
       "      <td>2018-06-17</td>\n",
       "      <td>Зулейха открывает глаза</td>\n",
       "      <td>Современная русская литература</td>\n",
       "      <td>Гузель Яхина</td>\n",
       "      <td>2015</td>\n",
       "      <td>55_64</td>\n",
       "      <td>0.0</td>\n",
       "    </tr>\n",
       "  </tbody>\n",
       "</table>\n",
       "</div>"
      ],
      "text/plain": [
       "   user_id  item_id  progress  rating start_date                       title  \\\n",
       "0    90133    82910       100     NaN 2018-01-01             Ведьма отмщения   \n",
       "1    90133    26648       100     NaN 2018-10-07        Горький квест. Том 1   \n",
       "2    90133   375531       100     NaN 2018-12-08                 Понаехавшая   \n",
       "3    90133   248404        99     NaN 2018-01-22  Я орёл. Рассказы и повести   \n",
       "4    90133    48081       100     NaN 2018-06-17     Зулейха открывает глаза   \n",
       "\n",
       "                                              genres              authors  \\\n",
       "0                              Современные детективы      Галина Романова   \n",
       "1                              Современные детективы  Александра Маринина   \n",
       "2                     Современная русская литература       Наринэ Абгарян   \n",
       "3  Книги о приключениях,Юмор и сатира,Современные...     Дмитрий Коробков   \n",
       "4                     Современная русская литература         Гузель Яхина   \n",
       "\n",
       "   year    age  sex  \n",
       "0  2013  55_64  0.0  \n",
       "1  2018  55_64  0.0  \n",
       "2  2011  55_64  0.0  \n",
       "3   NaN  55_64  0.0  \n",
       "4  2015  55_64  0.0  "
      ]
     },
     "execution_count": 44,
     "metadata": {},
     "output_type": "execute_result"
    }
   ],
   "source": [
    "test_full.head()"
   ]
  },
  {
   "cell_type": "code",
   "execution_count": 45,
   "id": "aquatic-jordan",
   "metadata": {
    "execution": {
     "iopub.execute_input": "2021-05-09T21:04:59.262264Z",
     "iopub.status.busy": "2021-05-09T21:04:59.261207Z",
     "iopub.status.idle": "2021-05-09T21:04:59.310302Z",
     "shell.execute_reply": "2021-05-09T21:04:59.309645Z"
    },
    "papermill": {
     "duration": 0.117195,
     "end_time": "2021-05-09T21:04:59.310488",
     "exception": false,
     "start_time": "2021-05-09T21:04:59.193293",
     "status": "completed"
    },
    "tags": []
   },
   "outputs": [
    {
     "data": {
      "text/html": [
       "<div>\n",
       "<style scoped>\n",
       "    .dataframe tbody tr th:only-of-type {\n",
       "        vertical-align: middle;\n",
       "    }\n",
       "\n",
       "    .dataframe tbody tr th {\n",
       "        vertical-align: top;\n",
       "    }\n",
       "\n",
       "    .dataframe thead th {\n",
       "        text-align: right;\n",
       "    }\n",
       "</style>\n",
       "<table border=\"1\" class=\"dataframe\">\n",
       "  <thead>\n",
       "    <tr style=\"text-align: right;\">\n",
       "      <th></th>\n",
       "      <th>user_id</th>\n",
       "      <th>item_id</th>\n",
       "      <th>progress</th>\n",
       "      <th>rating</th>\n",
       "      <th>start_date</th>\n",
       "      <th>title</th>\n",
       "      <th>genres</th>\n",
       "      <th>authors</th>\n",
       "      <th>year</th>\n",
       "      <th>age</th>\n",
       "      <th>sex</th>\n",
       "    </tr>\n",
       "  </thead>\n",
       "  <tbody>\n",
       "    <tr>\n",
       "      <th>106</th>\n",
       "      <td>90133</td>\n",
       "      <td>7276</td>\n",
       "      <td>100</td>\n",
       "      <td>5.0</td>\n",
       "      <td>2019-12-22</td>\n",
       "      <td>Помощница палача</td>\n",
       "      <td>Современные детективы</td>\n",
       "      <td>Марина Серова</td>\n",
       "      <td>2020</td>\n",
       "      <td>55_64</td>\n",
       "      <td>0.0</td>\n",
       "    </tr>\n",
       "    <tr>\n",
       "      <th>260</th>\n",
       "      <td>90133</td>\n",
       "      <td>313980</td>\n",
       "      <td>99</td>\n",
       "      <td>NaN</td>\n",
       "      <td>2019-12-22</td>\n",
       "      <td>Хирург дьявола</td>\n",
       "      <td>Современные детективы</td>\n",
       "      <td>Марина Серова</td>\n",
       "      <td>2019</td>\n",
       "      <td>55_64</td>\n",
       "      <td>0.0</td>\n",
       "    </tr>\n",
       "    <tr>\n",
       "      <th>355</th>\n",
       "      <td>163822</td>\n",
       "      <td>170461</td>\n",
       "      <td>87</td>\n",
       "      <td>NaN</td>\n",
       "      <td>2019-12-22</td>\n",
       "      <td>Голодание – сильнее таблеток! Исцеление, очище...</td>\n",
       "      <td>Здоровье</td>\n",
       "      <td>Игорь Подопригора</td>\n",
       "      <td>2012</td>\n",
       "      <td>35_44</td>\n",
       "      <td>0.0</td>\n",
       "    </tr>\n",
       "    <tr>\n",
       "      <th>360</th>\n",
       "      <td>163822</td>\n",
       "      <td>232743</td>\n",
       "      <td>97</td>\n",
       "      <td>NaN</td>\n",
       "      <td>2019-12-22</td>\n",
       "      <td>Однодневное голодание на воде. Теория. Практик...</td>\n",
       "      <td>Руководства,Здоровье,Медицина</td>\n",
       "      <td>Анастасия Гагарина</td>\n",
       "      <td>NaN</td>\n",
       "      <td>35_44</td>\n",
       "      <td>0.0</td>\n",
       "    </tr>\n",
       "    <tr>\n",
       "      <th>362</th>\n",
       "      <td>163822</td>\n",
       "      <td>9590</td>\n",
       "      <td>5</td>\n",
       "      <td>NaN</td>\n",
       "      <td>2019-12-17</td>\n",
       "      <td>Одна привычка в неделю. Измени себя за год</td>\n",
       "      <td>Личная эффективность,Саморазвитие / личностный...</td>\n",
       "      <td>Бретт Блюменталь</td>\n",
       "      <td>2015</td>\n",
       "      <td>35_44</td>\n",
       "      <td>0.0</td>\n",
       "    </tr>\n",
       "  </tbody>\n",
       "</table>\n",
       "</div>"
      ],
      "text/plain": [
       "     user_id  item_id  progress  rating start_date  \\\n",
       "106    90133     7276       100     5.0 2019-12-22   \n",
       "260    90133   313980        99     NaN 2019-12-22   \n",
       "355   163822   170461        87     NaN 2019-12-22   \n",
       "360   163822   232743        97     NaN 2019-12-22   \n",
       "362   163822     9590         5     NaN 2019-12-17   \n",
       "\n",
       "                                                 title  \\\n",
       "106                                   Помощница палача   \n",
       "260                                     Хирург дьявола   \n",
       "355  Голодание – сильнее таблеток! Исцеление, очище...   \n",
       "360  Однодневное голодание на воде. Теория. Практик...   \n",
       "362         Одна привычка в неделю. Измени себя за год   \n",
       "\n",
       "                                                genres             authors  \\\n",
       "106                              Современные детективы       Марина Серова   \n",
       "260                              Современные детективы       Марина Серова   \n",
       "355                                           Здоровье   Игорь Подопригора   \n",
       "360                      Руководства,Здоровье,Медицина  Анастасия Гагарина   \n",
       "362  Личная эффективность,Саморазвитие / личностный...    Бретт Блюменталь   \n",
       "\n",
       "     year    age  sex  \n",
       "106  2020  55_64  0.0  \n",
       "260  2019  55_64  0.0  \n",
       "355  2012  35_44  0.0  \n",
       "360   NaN  35_44  0.0  \n",
       "362  2015  35_44  0.0  "
      ]
     },
     "execution_count": 45,
     "metadata": {},
     "output_type": "execute_result"
    }
   ],
   "source": [
    "min_date = test_full['start_date'].max().normalize() - pd.DateOffset(days=28)\n",
    "days28 = test_full[test_full['start_date'] > min_date]\n",
    "days28.head()"
   ]
  },
  {
   "cell_type": "code",
   "execution_count": 46,
   "id": "pleased-fabric",
   "metadata": {
    "execution": {
     "iopub.execute_input": "2021-05-09T21:04:59.460487Z",
     "iopub.status.busy": "2021-05-09T21:04:59.459783Z",
     "iopub.status.idle": "2021-05-09T21:04:59.495033Z",
     "shell.execute_reply": "2021-05-09T21:04:59.494404Z"
    },
    "papermill": {
     "duration": 0.117242,
     "end_time": "2021-05-09T21:04:59.495227",
     "exception": false,
     "start_time": "2021-05-09T21:04:59.377985",
     "status": "completed"
    },
    "tags": []
   },
   "outputs": [],
   "source": [
    "woof = days28.groupby(['age', 'item_id']).agg({'item_id' : 'count'}).rename_axis(index = {'item_id' : 'book_id'}).sort_values(by = 'item_id', ascending = False)\n",
    "woof = woof.reset_index()"
   ]
  },
  {
   "cell_type": "code",
   "execution_count": 47,
   "id": "bound-security",
   "metadata": {
    "execution": {
     "iopub.execute_input": "2021-05-09T21:04:59.634522Z",
     "iopub.status.busy": "2021-05-09T21:04:59.633852Z",
     "iopub.status.idle": "2021-05-09T21:04:59.647115Z",
     "shell.execute_reply": "2021-05-09T21:04:59.647670Z"
    },
    "papermill": {
     "duration": 0.086227,
     "end_time": "2021-05-09T21:04:59.647892",
     "exception": false,
     "start_time": "2021-05-09T21:04:59.561665",
     "status": "completed"
    },
    "tags": []
   },
   "outputs": [
    {
     "data": {
      "text/plain": [
       "array([283713, 184549,  55466, 143175, 160349, 374648, 276903,  51423,\n",
       "       168963,  50718])"
      ]
     },
     "execution_count": 47,
     "metadata": {},
     "output_type": "execute_result"
    }
   ],
   "source": [
    "woof = woof.groupby('age').head(10)\n",
    "woof[woof['age'] == '65_inf'].book_id.values"
   ]
  },
  {
   "cell_type": "code",
   "execution_count": 48,
   "id": "extraordinary-point",
   "metadata": {
    "execution": {
     "iopub.execute_input": "2021-05-09T21:04:59.791219Z",
     "iopub.status.busy": "2021-05-09T21:04:59.790466Z",
     "iopub.status.idle": "2021-05-09T21:04:59.795183Z",
     "shell.execute_reply": "2021-05-09T21:04:59.794479Z"
    },
    "papermill": {
     "duration": 0.078825,
     "end_time": "2021-05-09T21:04:59.795351",
     "exception": false,
     "start_time": "2021-05-09T21:04:59.716526",
     "status": "completed"
    },
    "tags": []
   },
   "outputs": [
    {
     "data": {
      "text/plain": [
       "'283713 184549 276903 168963 357309 143175 385281 55466 80003 352049'"
      ]
     },
     "execution_count": 48,
     "metadata": {},
     "output_type": "execute_result"
    }
   ],
   "source": [
    "#самые популярные книги 18_24\n",
    "list1824_28 = '80003 283713 184549 385281 168963 56877 276903 334106 287060 267817'\n",
    "#самые популярные книги 25_34\n",
    "list2534_28 = '80003 357309 385281 56877 184549 283713 168963 276903 287060 112869'\n",
    "#самые популярные книги 35_44\n",
    "list3544_28 = '357309 184549 283713 385281 168963 242176 80003 56877 276903 39077' \n",
    "#самые популярные книги 45_54\n",
    "list4554_28 = '283713 184549 55466 143175 357309 168963 276903 242176 50718 321351'\n",
    "#самые популярные книги 55_64\n",
    "list5564_28 = '283713 143175 184549 55466 168963 276903 160349 79499 323949 357309'\n",
    "#самые популярные книги 65_inf\n",
    "list65inf_28 = '283713 184549 55466 143175 160349 374648 276903 51423 168963 50718'\n",
    "\n",
    "#самые популярные в принципе: \n",
    "'283713 184549 276903 168963 357309 143175 385281 55466 80003 352049'"
   ]
  },
  {
   "cell_type": "code",
   "execution_count": 49,
   "id": "disabled-albert",
   "metadata": {
    "execution": {
     "iopub.execute_input": "2021-05-09T21:04:59.949295Z",
     "iopub.status.busy": "2021-05-09T21:04:59.948587Z",
     "iopub.status.idle": "2021-05-09T21:04:59.952760Z",
     "shell.execute_reply": "2021-05-09T21:04:59.952190Z"
    },
    "papermill": {
     "duration": 0.090307,
     "end_time": "2021-05-09T21:04:59.952915",
     "exception": false,
     "start_time": "2021-05-09T21:04:59.862608",
     "status": "completed"
    },
    "tags": []
   },
   "outputs": [],
   "source": [
    "test_sub.loc[test_sub['age'] == '18_24', 'Predicted'] = list1824_28\n",
    "test_sub.loc[test_sub['age'] == '25_34', 'Predicted'] = list2534_28\n",
    "test_sub.loc[test_sub['age'] == '35_44', 'Predicted'] = list3544_28\n",
    "test_sub.loc[test_sub['age'] == '45_54', 'Predicted'] = list4554_28\n",
    "test_sub.loc[test_sub['age'] == '55_64', 'Predicted'] = list5564_28\n",
    "test_sub.loc[test_sub['age'] == '65_inf', 'Predicted'] = list65inf_28\n",
    "\n",
    "test_sub.loc[test_sub['age'].isna(), 'Predicted'] = '283713 184549 276903 168963 357309 143175 385281 55466 80003 352049'"
   ]
  },
  {
   "cell_type": "code",
   "execution_count": 50,
   "id": "colonial-running",
   "metadata": {
    "execution": {
     "iopub.execute_input": "2021-05-09T21:05:00.104167Z",
     "iopub.status.busy": "2021-05-09T21:05:00.103334Z",
     "iopub.status.idle": "2021-05-09T21:05:00.108101Z",
     "shell.execute_reply": "2021-05-09T21:05:00.107224Z"
    },
    "papermill": {
     "duration": 0.08835,
     "end_time": "2021-05-09T21:05:00.108287",
     "exception": false,
     "start_time": "2021-05-09T21:05:00.019937",
     "status": "completed"
    },
    "tags": []
   },
   "outputs": [
    {
     "data": {
      "text/html": [
       "<div>\n",
       "<style scoped>\n",
       "    .dataframe tbody tr th:only-of-type {\n",
       "        vertical-align: middle;\n",
       "    }\n",
       "\n",
       "    .dataframe tbody tr th {\n",
       "        vertical-align: top;\n",
       "    }\n",
       "\n",
       "    .dataframe thead th {\n",
       "        text-align: right;\n",
       "    }\n",
       "</style>\n",
       "<table border=\"1\" class=\"dataframe\">\n",
       "  <thead>\n",
       "    <tr style=\"text-align: right;\">\n",
       "      <th></th>\n",
       "      <th>user_id</th>\n",
       "      <th>Predicted</th>\n",
       "      <th>age</th>\n",
       "      <th>sex</th>\n",
       "    </tr>\n",
       "  </thead>\n",
       "  <tbody>\n",
       "    <tr>\n",
       "      <th>0</th>\n",
       "      <td>10001</td>\n",
       "      <td>80003 357309 385281 56877 184549 283713 168963...</td>\n",
       "      <td>25_34</td>\n",
       "      <td>0.0</td>\n",
       "    </tr>\n",
       "    <tr>\n",
       "      <th>1</th>\n",
       "      <td>10002</td>\n",
       "      <td>283713 184549 276903 168963 357309 143175 3852...</td>\n",
       "      <td>NaN</td>\n",
       "      <td>NaN</td>\n",
       "    </tr>\n",
       "    <tr>\n",
       "      <th>2</th>\n",
       "      <td>100152</td>\n",
       "      <td>80003 357309 385281 56877 184549 283713 168963...</td>\n",
       "      <td>25_34</td>\n",
       "      <td>0.0</td>\n",
       "    </tr>\n",
       "    <tr>\n",
       "      <th>3</th>\n",
       "      <td>100197</td>\n",
       "      <td>80003 357309 385281 56877 184549 283713 168963...</td>\n",
       "      <td>25_34</td>\n",
       "      <td>1.0</td>\n",
       "    </tr>\n",
       "    <tr>\n",
       "      <th>4</th>\n",
       "      <td>100284</td>\n",
       "      <td>283713 184549 55466 143175 357309 168963 27690...</td>\n",
       "      <td>45_54</td>\n",
       "      <td>1.0</td>\n",
       "    </tr>\n",
       "    <tr>\n",
       "      <th>...</th>\n",
       "      <td>...</td>\n",
       "      <td>...</td>\n",
       "      <td>...</td>\n",
       "      <td>...</td>\n",
       "    </tr>\n",
       "    <tr>\n",
       "      <th>3069</th>\n",
       "      <td>99734</td>\n",
       "      <td>80003 283713 184549 385281 168963 56877 276903...</td>\n",
       "      <td>18_24</td>\n",
       "      <td>0.0</td>\n",
       "    </tr>\n",
       "    <tr>\n",
       "      <th>3070</th>\n",
       "      <td>99757</td>\n",
       "      <td>80003 283713 184549 385281 168963 56877 276903...</td>\n",
       "      <td>18_24</td>\n",
       "      <td>0.0</td>\n",
       "    </tr>\n",
       "    <tr>\n",
       "      <th>3071</th>\n",
       "      <td>99772</td>\n",
       "      <td>80003 357309 385281 56877 184549 283713 168963...</td>\n",
       "      <td>25_34</td>\n",
       "      <td>0.0</td>\n",
       "    </tr>\n",
       "    <tr>\n",
       "      <th>3072</th>\n",
       "      <td>99827</td>\n",
       "      <td>357309 184549 283713 385281 168963 242176 8000...</td>\n",
       "      <td>35_44</td>\n",
       "      <td>0.0</td>\n",
       "    </tr>\n",
       "    <tr>\n",
       "      <th>3073</th>\n",
       "      <td>99881</td>\n",
       "      <td>357309 184549 283713 385281 168963 242176 8000...</td>\n",
       "      <td>35_44</td>\n",
       "      <td>0.0</td>\n",
       "    </tr>\n",
       "  </tbody>\n",
       "</table>\n",
       "<p>3074 rows × 4 columns</p>\n",
       "</div>"
      ],
      "text/plain": [
       "      user_id                                          Predicted    age  sex\n",
       "0       10001  80003 357309 385281 56877 184549 283713 168963...  25_34  0.0\n",
       "1       10002  283713 184549 276903 168963 357309 143175 3852...    NaN  NaN\n",
       "2      100152  80003 357309 385281 56877 184549 283713 168963...  25_34  0.0\n",
       "3      100197  80003 357309 385281 56877 184549 283713 168963...  25_34  1.0\n",
       "4      100284  283713 184549 55466 143175 357309 168963 27690...  45_54  1.0\n",
       "...       ...                                                ...    ...  ...\n",
       "3069    99734  80003 283713 184549 385281 168963 56877 276903...  18_24  0.0\n",
       "3070    99757  80003 283713 184549 385281 168963 56877 276903...  18_24  0.0\n",
       "3071    99772  80003 357309 385281 56877 184549 283713 168963...  25_34  0.0\n",
       "3072    99827  357309 184549 283713 385281 168963 242176 8000...  35_44  0.0\n",
       "3073    99881  357309 184549 283713 385281 168963 242176 8000...  35_44  0.0\n",
       "\n",
       "[3074 rows x 4 columns]"
      ]
     },
     "execution_count": 50,
     "metadata": {},
     "output_type": "execute_result"
    }
   ],
   "source": [
    "test_sub"
   ]
  },
  {
   "cell_type": "code",
   "execution_count": 51,
   "id": "different-remainder",
   "metadata": {
    "execution": {
     "iopub.execute_input": "2021-05-09T21:05:00.253218Z",
     "iopub.status.busy": "2021-05-09T21:05:00.251474Z",
     "iopub.status.idle": "2021-05-09T21:05:00.274590Z",
     "shell.execute_reply": "2021-05-09T21:05:00.275175Z"
    },
    "papermill": {
     "duration": 0.098282,
     "end_time": "2021-05-09T21:05:00.275375",
     "exception": false,
     "start_time": "2021-05-09T21:05:00.177093",
     "status": "completed"
    },
    "tags": []
   },
   "outputs": [],
   "source": [
    "yolo2 = test_sub.drop(['age', 'sex'], axis = 1)\n",
    "yolo2 = yolo2.rename(columns = {'user_id' : 'Id'})\n",
    "yolo2.to_csv('yolo2.csv', index = False)"
   ]
  },
  {
   "cell_type": "markdown",
   "id": "narrative-symphony",
   "metadata": {
    "papermill": {
     "duration": 0.066879,
     "end_time": "2021-05-09T21:05:00.410517",
     "exception": false,
     "start_time": "2021-05-09T21:05:00.343638",
     "status": "completed"
    },
    "tags": []
   },
   "source": [
    "# Проделаем то же самое для пола - т.е. укажем самые популярные книги за последние 28 дней сгруппировав по полу."
   ]
  },
  {
   "cell_type": "code",
   "execution_count": 52,
   "id": "operating-contrary",
   "metadata": {
    "execution": {
     "iopub.execute_input": "2021-05-09T21:05:00.565149Z",
     "iopub.status.busy": "2021-05-09T21:05:00.564441Z",
     "iopub.status.idle": "2021-05-09T21:05:00.567990Z",
     "shell.execute_reply": "2021-05-09T21:05:00.568521Z"
    },
    "papermill": {
     "duration": 0.090173,
     "end_time": "2021-05-09T21:05:00.568756",
     "exception": false,
     "start_time": "2021-05-09T21:05:00.478583",
     "status": "completed"
    },
    "tags": []
   },
   "outputs": [
    {
     "data": {
      "text/html": [
       "<div>\n",
       "<style scoped>\n",
       "    .dataframe tbody tr th:only-of-type {\n",
       "        vertical-align: middle;\n",
       "    }\n",
       "\n",
       "    .dataframe tbody tr th {\n",
       "        vertical-align: top;\n",
       "    }\n",
       "\n",
       "    .dataframe thead th {\n",
       "        text-align: right;\n",
       "    }\n",
       "</style>\n",
       "<table border=\"1\" class=\"dataframe\">\n",
       "  <thead>\n",
       "    <tr style=\"text-align: right;\">\n",
       "      <th></th>\n",
       "      <th>user_id</th>\n",
       "      <th>item_id</th>\n",
       "      <th>progress</th>\n",
       "      <th>rating</th>\n",
       "      <th>start_date</th>\n",
       "      <th>title</th>\n",
       "      <th>genres</th>\n",
       "      <th>authors</th>\n",
       "      <th>year</th>\n",
       "      <th>age</th>\n",
       "      <th>sex</th>\n",
       "    </tr>\n",
       "  </thead>\n",
       "  <tbody>\n",
       "    <tr>\n",
       "      <th>0</th>\n",
       "      <td>90133</td>\n",
       "      <td>82910</td>\n",
       "      <td>100</td>\n",
       "      <td>NaN</td>\n",
       "      <td>2018-01-01</td>\n",
       "      <td>Ведьма отмщения</td>\n",
       "      <td>Современные детективы</td>\n",
       "      <td>Галина Романова</td>\n",
       "      <td>2013</td>\n",
       "      <td>55_64</td>\n",
       "      <td>0.0</td>\n",
       "    </tr>\n",
       "    <tr>\n",
       "      <th>1</th>\n",
       "      <td>90133</td>\n",
       "      <td>26648</td>\n",
       "      <td>100</td>\n",
       "      <td>NaN</td>\n",
       "      <td>2018-10-07</td>\n",
       "      <td>Горький квест. Том 1</td>\n",
       "      <td>Современные детективы</td>\n",
       "      <td>Александра Маринина</td>\n",
       "      <td>2018</td>\n",
       "      <td>55_64</td>\n",
       "      <td>0.0</td>\n",
       "    </tr>\n",
       "    <tr>\n",
       "      <th>2</th>\n",
       "      <td>90133</td>\n",
       "      <td>375531</td>\n",
       "      <td>100</td>\n",
       "      <td>NaN</td>\n",
       "      <td>2018-12-08</td>\n",
       "      <td>Понаехавшая</td>\n",
       "      <td>Современная русская литература</td>\n",
       "      <td>Наринэ Абгарян</td>\n",
       "      <td>2011</td>\n",
       "      <td>55_64</td>\n",
       "      <td>0.0</td>\n",
       "    </tr>\n",
       "    <tr>\n",
       "      <th>3</th>\n",
       "      <td>90133</td>\n",
       "      <td>248404</td>\n",
       "      <td>99</td>\n",
       "      <td>NaN</td>\n",
       "      <td>2018-01-22</td>\n",
       "      <td>Я орёл. Рассказы и повести</td>\n",
       "      <td>Книги о приключениях,Юмор и сатира,Современные...</td>\n",
       "      <td>Дмитрий Коробков</td>\n",
       "      <td>NaN</td>\n",
       "      <td>55_64</td>\n",
       "      <td>0.0</td>\n",
       "    </tr>\n",
       "    <tr>\n",
       "      <th>4</th>\n",
       "      <td>90133</td>\n",
       "      <td>48081</td>\n",
       "      <td>100</td>\n",
       "      <td>NaN</td>\n",
       "      <td>2018-06-17</td>\n",
       "      <td>Зулейха открывает глаза</td>\n",
       "      <td>Современная русская литература</td>\n",
       "      <td>Гузель Яхина</td>\n",
       "      <td>2015</td>\n",
       "      <td>55_64</td>\n",
       "      <td>0.0</td>\n",
       "    </tr>\n",
       "  </tbody>\n",
       "</table>\n",
       "</div>"
      ],
      "text/plain": [
       "   user_id  item_id  progress  rating start_date                       title  \\\n",
       "0    90133    82910       100     NaN 2018-01-01             Ведьма отмщения   \n",
       "1    90133    26648       100     NaN 2018-10-07        Горький квест. Том 1   \n",
       "2    90133   375531       100     NaN 2018-12-08                 Понаехавшая   \n",
       "3    90133   248404        99     NaN 2018-01-22  Я орёл. Рассказы и повести   \n",
       "4    90133    48081       100     NaN 2018-06-17     Зулейха открывает глаза   \n",
       "\n",
       "                                              genres              authors  \\\n",
       "0                              Современные детективы      Галина Романова   \n",
       "1                              Современные детективы  Александра Маринина   \n",
       "2                     Современная русская литература       Наринэ Абгарян   \n",
       "3  Книги о приключениях,Юмор и сатира,Современные...     Дмитрий Коробков   \n",
       "4                     Современная русская литература         Гузель Яхина   \n",
       "\n",
       "   year    age  sex  \n",
       "0  2013  55_64  0.0  \n",
       "1  2018  55_64  0.0  \n",
       "2  2011  55_64  0.0  \n",
       "3   NaN  55_64  0.0  \n",
       "4  2015  55_64  0.0  "
      ]
     },
     "execution_count": 52,
     "metadata": {},
     "output_type": "execute_result"
    }
   ],
   "source": [
    "test_full.head()"
   ]
  },
  {
   "cell_type": "code",
   "execution_count": 53,
   "id": "cathedral-youth",
   "metadata": {
    "execution": {
     "iopub.execute_input": "2021-05-09T21:05:00.719127Z",
     "iopub.status.busy": "2021-05-09T21:05:00.718299Z",
     "iopub.status.idle": "2021-05-09T21:05:00.746804Z",
     "shell.execute_reply": "2021-05-09T21:05:00.747381Z"
    },
    "papermill": {
     "duration": 0.101933,
     "end_time": "2021-05-09T21:05:00.747621",
     "exception": false,
     "start_time": "2021-05-09T21:05:00.645688",
     "status": "completed"
    },
    "tags": []
   },
   "outputs": [],
   "source": [
    "sexish = days28.groupby(['sex', 'item_id']).agg({'item_id' : 'count'}).rename_axis(index = {'item_id' : 'book_id'}).sort_values(by = 'item_id', ascending = False)\n",
    "sexish = sexish.reset_index()"
   ]
  },
  {
   "cell_type": "code",
   "execution_count": 54,
   "id": "aggregate-witness",
   "metadata": {
    "execution": {
     "iopub.execute_input": "2021-05-09T21:05:00.901561Z",
     "iopub.status.busy": "2021-05-09T21:05:00.900952Z",
     "iopub.status.idle": "2021-05-09T21:05:00.912350Z",
     "shell.execute_reply": "2021-05-09T21:05:00.911771Z"
    },
    "papermill": {
     "duration": 0.091887,
     "end_time": "2021-05-09T21:05:00.912511",
     "exception": false,
     "start_time": "2021-05-09T21:05:00.820624",
     "status": "completed"
    },
    "tags": []
   },
   "outputs": [
    {
     "data": {
      "text/plain": [
       "array([283713, 184549, 276903, 357309,  55466, 385281, 352049, 143175,\n",
       "       168963, 287060])"
      ]
     },
     "execution_count": 54,
     "metadata": {},
     "output_type": "execute_result"
    }
   ],
   "source": [
    "sexish = sexish.groupby('sex').head(10)\n",
    "sexish[sexish['sex'] == 1.0]['book_id'].values"
   ]
  },
  {
   "cell_type": "code",
   "execution_count": 55,
   "id": "looking-beauty",
   "metadata": {
    "execution": {
     "iopub.execute_input": "2021-05-09T21:05:01.072167Z",
     "iopub.status.busy": "2021-05-09T21:05:01.071482Z",
     "iopub.status.idle": "2021-05-09T21:05:01.075904Z",
     "shell.execute_reply": "2021-05-09T21:05:01.075350Z"
    },
    "papermill": {
     "duration": 0.085726,
     "end_time": "2021-05-09T21:05:01.076056",
     "exception": false,
     "start_time": "2021-05-09T21:05:00.990330",
     "status": "completed"
    },
    "tags": []
   },
   "outputs": [
    {
     "data": {
      "text/plain": [
       "'283713 184549 276903 168963 357309 143175 385281 55466 80003 352049'"
      ]
     },
     "execution_count": 55,
     "metadata": {},
     "output_type": "execute_result"
    }
   ],
   "source": [
    "#для пола \"0\"\n",
    "sex_0_28 = '283713 184549 168963 143175 357309 80003 56877 55466 276903 242176'\n",
    "#для пола \"1\"\n",
    "sex_1_28 = '283713 184549 276903 357309 55466 385281 352049 143175 168963 287060'\n",
    "\n",
    "#самые популярные в принципе: \n",
    "'283713 184549 276903 168963 357309 143175 385281 55466 80003 352049'"
   ]
  },
  {
   "cell_type": "code",
   "execution_count": 56,
   "id": "confirmed-maple",
   "metadata": {
    "execution": {
     "iopub.execute_input": "2021-05-09T21:05:01.230353Z",
     "iopub.status.busy": "2021-05-09T21:05:01.229494Z",
     "iopub.status.idle": "2021-05-09T21:05:01.233657Z",
     "shell.execute_reply": "2021-05-09T21:05:01.233162Z"
    },
    "papermill": {
     "duration": 0.086423,
     "end_time": "2021-05-09T21:05:01.233930",
     "exception": false,
     "start_time": "2021-05-09T21:05:01.147507",
     "status": "completed"
    },
    "tags": []
   },
   "outputs": [],
   "source": [
    "test_sub.loc[test_sub['sex'] == 1.0, 'Predicted'] = sex_1_28\n",
    "test_sub.loc[test_sub['sex'] == 0.0, 'Predicted'] = sex_0_28\n",
    "\n",
    "\n",
    "test_sub.loc[test_sub['sex'].isna(), 'Predicted'] = '283713 184549 276903 168963 357309 143175 385281 55466 80003 352049'"
   ]
  },
  {
   "cell_type": "code",
   "execution_count": 57,
   "id": "cardiovascular-garage",
   "metadata": {
    "execution": {
     "iopub.execute_input": "2021-05-09T21:05:01.391688Z",
     "iopub.status.busy": "2021-05-09T21:05:01.390997Z",
     "iopub.status.idle": "2021-05-09T21:05:01.395606Z",
     "shell.execute_reply": "2021-05-09T21:05:01.395014Z"
    },
    "papermill": {
     "duration": 0.090526,
     "end_time": "2021-05-09T21:05:01.395775",
     "exception": false,
     "start_time": "2021-05-09T21:05:01.305249",
     "status": "completed"
    },
    "tags": []
   },
   "outputs": [
    {
     "data": {
      "text/html": [
       "<div>\n",
       "<style scoped>\n",
       "    .dataframe tbody tr th:only-of-type {\n",
       "        vertical-align: middle;\n",
       "    }\n",
       "\n",
       "    .dataframe tbody tr th {\n",
       "        vertical-align: top;\n",
       "    }\n",
       "\n",
       "    .dataframe thead th {\n",
       "        text-align: right;\n",
       "    }\n",
       "</style>\n",
       "<table border=\"1\" class=\"dataframe\">\n",
       "  <thead>\n",
       "    <tr style=\"text-align: right;\">\n",
       "      <th></th>\n",
       "      <th>user_id</th>\n",
       "      <th>Predicted</th>\n",
       "      <th>age</th>\n",
       "      <th>sex</th>\n",
       "    </tr>\n",
       "  </thead>\n",
       "  <tbody>\n",
       "    <tr>\n",
       "      <th>0</th>\n",
       "      <td>10001</td>\n",
       "      <td>283713 184549 168963 143175 357309 80003 56877...</td>\n",
       "      <td>25_34</td>\n",
       "      <td>0.0</td>\n",
       "    </tr>\n",
       "    <tr>\n",
       "      <th>1</th>\n",
       "      <td>10002</td>\n",
       "      <td>283713 184549 276903 168963 357309 143175 3852...</td>\n",
       "      <td>NaN</td>\n",
       "      <td>NaN</td>\n",
       "    </tr>\n",
       "    <tr>\n",
       "      <th>2</th>\n",
       "      <td>100152</td>\n",
       "      <td>283713 184549 168963 143175 357309 80003 56877...</td>\n",
       "      <td>25_34</td>\n",
       "      <td>0.0</td>\n",
       "    </tr>\n",
       "    <tr>\n",
       "      <th>3</th>\n",
       "      <td>100197</td>\n",
       "      <td>283713 184549 276903 357309 55466 385281 35204...</td>\n",
       "      <td>25_34</td>\n",
       "      <td>1.0</td>\n",
       "    </tr>\n",
       "    <tr>\n",
       "      <th>4</th>\n",
       "      <td>100284</td>\n",
       "      <td>283713 184549 276903 357309 55466 385281 35204...</td>\n",
       "      <td>45_54</td>\n",
       "      <td>1.0</td>\n",
       "    </tr>\n",
       "    <tr>\n",
       "      <th>...</th>\n",
       "      <td>...</td>\n",
       "      <td>...</td>\n",
       "      <td>...</td>\n",
       "      <td>...</td>\n",
       "    </tr>\n",
       "    <tr>\n",
       "      <th>3069</th>\n",
       "      <td>99734</td>\n",
       "      <td>283713 184549 168963 143175 357309 80003 56877...</td>\n",
       "      <td>18_24</td>\n",
       "      <td>0.0</td>\n",
       "    </tr>\n",
       "    <tr>\n",
       "      <th>3070</th>\n",
       "      <td>99757</td>\n",
       "      <td>283713 184549 168963 143175 357309 80003 56877...</td>\n",
       "      <td>18_24</td>\n",
       "      <td>0.0</td>\n",
       "    </tr>\n",
       "    <tr>\n",
       "      <th>3071</th>\n",
       "      <td>99772</td>\n",
       "      <td>283713 184549 168963 143175 357309 80003 56877...</td>\n",
       "      <td>25_34</td>\n",
       "      <td>0.0</td>\n",
       "    </tr>\n",
       "    <tr>\n",
       "      <th>3072</th>\n",
       "      <td>99827</td>\n",
       "      <td>283713 184549 168963 143175 357309 80003 56877...</td>\n",
       "      <td>35_44</td>\n",
       "      <td>0.0</td>\n",
       "    </tr>\n",
       "    <tr>\n",
       "      <th>3073</th>\n",
       "      <td>99881</td>\n",
       "      <td>283713 184549 168963 143175 357309 80003 56877...</td>\n",
       "      <td>35_44</td>\n",
       "      <td>0.0</td>\n",
       "    </tr>\n",
       "  </tbody>\n",
       "</table>\n",
       "<p>3074 rows × 4 columns</p>\n",
       "</div>"
      ],
      "text/plain": [
       "      user_id                                          Predicted    age  sex\n",
       "0       10001  283713 184549 168963 143175 357309 80003 56877...  25_34  0.0\n",
       "1       10002  283713 184549 276903 168963 357309 143175 3852...    NaN  NaN\n",
       "2      100152  283713 184549 168963 143175 357309 80003 56877...  25_34  0.0\n",
       "3      100197  283713 184549 276903 357309 55466 385281 35204...  25_34  1.0\n",
       "4      100284  283713 184549 276903 357309 55466 385281 35204...  45_54  1.0\n",
       "...       ...                                                ...    ...  ...\n",
       "3069    99734  283713 184549 168963 143175 357309 80003 56877...  18_24  0.0\n",
       "3070    99757  283713 184549 168963 143175 357309 80003 56877...  18_24  0.0\n",
       "3071    99772  283713 184549 168963 143175 357309 80003 56877...  25_34  0.0\n",
       "3072    99827  283713 184549 168963 143175 357309 80003 56877...  35_44  0.0\n",
       "3073    99881  283713 184549 168963 143175 357309 80003 56877...  35_44  0.0\n",
       "\n",
       "[3074 rows x 4 columns]"
      ]
     },
     "execution_count": 57,
     "metadata": {},
     "output_type": "execute_result"
    }
   ],
   "source": [
    "test_sub"
   ]
  },
  {
   "cell_type": "code",
   "execution_count": 58,
   "id": "realistic-medium",
   "metadata": {
    "execution": {
     "iopub.execute_input": "2021-05-09T21:05:01.541069Z",
     "iopub.status.busy": "2021-05-09T21:05:01.540340Z",
     "iopub.status.idle": "2021-05-09T21:05:01.563731Z",
     "shell.execute_reply": "2021-05-09T21:05:01.564265Z"
    },
    "papermill": {
     "duration": 0.097772,
     "end_time": "2021-05-09T21:05:01.564446",
     "exception": false,
     "start_time": "2021-05-09T21:05:01.466674",
     "status": "completed"
    },
    "tags": []
   },
   "outputs": [],
   "source": [
    "yolo3 = test_sub.drop(['age', 'sex'], axis = 1)\n",
    "yolo3 = yolo3.rename(columns = {'user_id' : 'Id'})\n",
    "yolo3.to_csv('yolo3.csv', index = False)"
   ]
  },
  {
   "cell_type": "code",
   "execution_count": 59,
   "id": "agricultural-western",
   "metadata": {
    "execution": {
     "iopub.execute_input": "2021-05-09T21:05:01.709156Z",
     "iopub.status.busy": "2021-05-09T21:05:01.708466Z",
     "iopub.status.idle": "2021-05-09T21:05:01.722073Z",
     "shell.execute_reply": "2021-05-09T21:05:01.722607Z"
    },
    "papermill": {
     "duration": 0.088001,
     "end_time": "2021-05-09T21:05:01.722811",
     "exception": false,
     "start_time": "2021-05-09T21:05:01.634810",
     "status": "completed"
    },
    "tags": []
   },
   "outputs": [
    {
     "data": {
      "text/html": [
       "<div>\n",
       "<style scoped>\n",
       "    .dataframe tbody tr th:only-of-type {\n",
       "        vertical-align: middle;\n",
       "    }\n",
       "\n",
       "    .dataframe tbody tr th {\n",
       "        vertical-align: top;\n",
       "    }\n",
       "\n",
       "    .dataframe thead th {\n",
       "        text-align: right;\n",
       "    }\n",
       "</style>\n",
       "<table border=\"1\" class=\"dataframe\">\n",
       "  <thead>\n",
       "    <tr style=\"text-align: right;\">\n",
       "      <th></th>\n",
       "      <th>Id</th>\n",
       "      <th>Predicted</th>\n",
       "    </tr>\n",
       "  </thead>\n",
       "  <tbody>\n",
       "    <tr>\n",
       "      <th>0</th>\n",
       "      <td>10001</td>\n",
       "      <td>283713 184549 168963 143175 357309 80003 56877...</td>\n",
       "    </tr>\n",
       "    <tr>\n",
       "      <th>1</th>\n",
       "      <td>10002</td>\n",
       "      <td>283713 184549 276903 168963 357309 143175 3852...</td>\n",
       "    </tr>\n",
       "    <tr>\n",
       "      <th>2</th>\n",
       "      <td>100152</td>\n",
       "      <td>283713 184549 168963 143175 357309 80003 56877...</td>\n",
       "    </tr>\n",
       "    <tr>\n",
       "      <th>3</th>\n",
       "      <td>100197</td>\n",
       "      <td>283713 184549 276903 357309 55466 385281 35204...</td>\n",
       "    </tr>\n",
       "    <tr>\n",
       "      <th>4</th>\n",
       "      <td>100284</td>\n",
       "      <td>283713 184549 276903 357309 55466 385281 35204...</td>\n",
       "    </tr>\n",
       "    <tr>\n",
       "      <th>...</th>\n",
       "      <td>...</td>\n",
       "      <td>...</td>\n",
       "    </tr>\n",
       "    <tr>\n",
       "      <th>3069</th>\n",
       "      <td>99734</td>\n",
       "      <td>283713 184549 168963 143175 357309 80003 56877...</td>\n",
       "    </tr>\n",
       "    <tr>\n",
       "      <th>3070</th>\n",
       "      <td>99757</td>\n",
       "      <td>283713 184549 168963 143175 357309 80003 56877...</td>\n",
       "    </tr>\n",
       "    <tr>\n",
       "      <th>3071</th>\n",
       "      <td>99772</td>\n",
       "      <td>283713 184549 168963 143175 357309 80003 56877...</td>\n",
       "    </tr>\n",
       "    <tr>\n",
       "      <th>3072</th>\n",
       "      <td>99827</td>\n",
       "      <td>283713 184549 168963 143175 357309 80003 56877...</td>\n",
       "    </tr>\n",
       "    <tr>\n",
       "      <th>3073</th>\n",
       "      <td>99881</td>\n",
       "      <td>283713 184549 168963 143175 357309 80003 56877...</td>\n",
       "    </tr>\n",
       "  </tbody>\n",
       "</table>\n",
       "<p>3074 rows × 2 columns</p>\n",
       "</div>"
      ],
      "text/plain": [
       "          Id                                          Predicted\n",
       "0      10001  283713 184549 168963 143175 357309 80003 56877...\n",
       "1      10002  283713 184549 276903 168963 357309 143175 3852...\n",
       "2     100152  283713 184549 168963 143175 357309 80003 56877...\n",
       "3     100197  283713 184549 276903 357309 55466 385281 35204...\n",
       "4     100284  283713 184549 276903 357309 55466 385281 35204...\n",
       "...      ...                                                ...\n",
       "3069   99734  283713 184549 168963 143175 357309 80003 56877...\n",
       "3070   99757  283713 184549 168963 143175 357309 80003 56877...\n",
       "3071   99772  283713 184549 168963 143175 357309 80003 56877...\n",
       "3072   99827  283713 184549 168963 143175 357309 80003 56877...\n",
       "3073   99881  283713 184549 168963 143175 357309 80003 56877...\n",
       "\n",
       "[3074 rows x 2 columns]"
      ]
     },
     "execution_count": 59,
     "metadata": {},
     "output_type": "execute_result"
    }
   ],
   "source": [
    "yolo3"
   ]
  },
  {
   "cell_type": "code",
   "execution_count": null,
   "id": "saved-spank",
   "metadata": {
    "papermill": {
     "duration": 0.070372,
     "end_time": "2021-05-09T21:05:01.863920",
     "exception": false,
     "start_time": "2021-05-09T21:05:01.793548",
     "status": "completed"
    },
    "tags": []
   },
   "outputs": [],
   "source": []
  }
 ],
 "metadata": {
  "kernelspec": {
   "display_name": "Python 3",
   "language": "python",
   "name": "python3"
  },
  "language_info": {
   "codemirror_mode": {
    "name": "ipython",
    "version": 3
   },
   "file_extension": ".py",
   "mimetype": "text/x-python",
   "name": "python",
   "nbconvert_exporter": "python",
   "pygments_lexer": "ipython3",
   "version": "3.7.10"
  },
  "papermill": {
   "default_parameters": {},
   "duration": 27.938578,
   "end_time": "2021-05-09T21:05:02.749422",
   "environment_variables": {},
   "exception": null,
   "input_path": "__notebook__.ipynb",
   "output_path": "__notebook__.ipynb",
   "parameters": {},
   "start_time": "2021-05-09T21:04:34.810844",
   "version": "2.3.3"
  }
 },
 "nbformat": 4,
 "nbformat_minor": 5
}
